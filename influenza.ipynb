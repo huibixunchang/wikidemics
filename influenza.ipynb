{
 "cells": [
  {
   "cell_type": "markdown",
   "metadata": {},
   "source": [
    "# Forecasting Influenza\n",
    "Flu season in the united states takes between 3,000 to 49,000 lives anually. Due to the lack of reliable forecasting methods, policy makers and public health officials can't optimally prepare for these deadly epidemics.\n",
    "\n",
    "With the advent of the internet, and consequently global internet traffic datasets, we can now begin to feasbily create models that are capable of epidemilological forecasting. \n",
    "\n",
    "This notebook examines the feasbility of creating a model that is capable of predicting epidemilological trends, specifically the US influenza season, using a widely availble free data source: Wikipedia article access logs. "
   ]
  },
  {
   "cell_type": "code",
   "execution_count": 98,
   "metadata": {
    "collapsed": false
   },
   "outputs": [],
   "source": [
    "import epidata as delphi\n",
    "import pandas as pd\n",
    "import requests\n",
    "import time\n",
    "from collections import defaultdict\n",
    "%matplotlib inline\n",
    "\n",
    "# restore API resps from last session\n",
    "%store -r pageViewResps\n",
    "%store -r wILIresp"
   ]
  },
  {
   "cell_type": "markdown",
   "metadata": {},
   "source": [
    "#### Getting Wikipedia Page Views for Flu Related Articles"
   ]
  },
  {
   "cell_type": "code",
   "execution_count": 78,
   "metadata": {
    "collapsed": false
   },
   "outputs": [],
   "source": [
    "if 'pageViewResps' not in list(globals().keys()):\n",
    "    epidata = delphi.Epidata() # interface to CMU delphi API\n",
    "\n",
    "    with open('./data/allarticles.txt') as f:\n",
    "        fluRelatedArticles = [article.strip() for article in f]\n",
    "    years = range(2008, 2017) # 2008 - 2016 full years\n",
    "    epiranges = [ epidata.range(int(str(yr) + '01'), int(str(yr) + '52')) for yr in years]\n",
    "    pageViewResps = []\n",
    "    # API calls to the delphi epidata API\n",
    "    for epiyear in epiranges:\n",
    "        resp = epidata.wiki(fluRelatedArticles, epiweeks=epiyear)['epidata']\n",
    "        pageViewResps.extend(resp)\n",
    "        time.sleep(15)\n",
    "    %store pageViewResps"
   ]
  },
  {
   "cell_type": "markdown",
   "metadata": {},
   "source": [
    "#### Getting state level ILInet data"
   ]
  },
  {
   "cell_type": "code",
   "execution_count": 96,
   "metadata": {
    "collapsed": false
   },
   "outputs": [
    {
     "name": "stdout",
     "output_type": "stream",
     "text": [
      "Stored 'wILIresp' (list)\n"
     ]
    }
   ],
   "source": [
    "if 'wILIresp' not in list(globals().keys()):\n",
    "    wILIresp = epidata.fluview('nat', epidata.range(200801, 201652))['epidata']\n",
    "    %store wILIresp"
   ]
  },
  {
   "cell_type": "markdown",
   "metadata": {},
   "source": [
    "#### Putting pageViews API response data in DataFrame"
   ]
  },
  {
   "cell_type": "code",
   "execution_count": 94,
   "metadata": {
    "collapsed": false
   },
   "outputs": [
    {
     "data": {
      "text/html": [
       "<div>\n",
       "<table border=\"1\" class=\"dataframe\">\n",
       "  <thead>\n",
       "    <tr style=\"text-align: right;\">\n",
       "      <th></th>\n",
       "      <th>influenza_b_virus</th>\n",
       "      <th>shivering</th>\n",
       "      <th>neuraminidase_inhibitor</th>\n",
       "      <th>equine_influenza</th>\n",
       "      <th>common_cold</th>\n",
       "      <th>influenza_a_virus_subtype_h9n2</th>\n",
       "      <th>avian_influenza</th>\n",
       "      <th>chills</th>\n",
       "      <th>influenza_a_virus_subtype_h1n1</th>\n",
       "      <th>fatigue_(medical)</th>\n",
       "      <th>...</th>\n",
       "      <th>influenza_a_virus_subtype_h5n1</th>\n",
       "      <th>influenza_a_virus_subtype_h3n8</th>\n",
       "      <th>influenza_a_virus_subtype_h7n3</th>\n",
       "      <th>influenza_prevention</th>\n",
       "      <th>influenza_a_virus_subtype_h7n9</th>\n",
       "      <th>swine_influenza</th>\n",
       "      <th>vomiting</th>\n",
       "      <th>influenza_a_virus_subtype_h3n2</th>\n",
       "      <th>orthomyxoviridae</th>\n",
       "      <th>viral_pneumonia</th>\n",
       "    </tr>\n",
       "  </thead>\n",
       "  <tbody>\n",
       "    <tr>\n",
       "      <th>200801</th>\n",
       "      <td>14</td>\n",
       "      <td>1251</td>\n",
       "      <td>362</td>\n",
       "      <td>187</td>\n",
       "      <td>19240</td>\n",
       "      <td>16</td>\n",
       "      <td>3292</td>\n",
       "      <td>777</td>\n",
       "      <td>34</td>\n",
       "      <td>957</td>\n",
       "      <td>...</td>\n",
       "      <td>218</td>\n",
       "      <td>13</td>\n",
       "      <td>6</td>\n",
       "      <td>0</td>\n",
       "      <td>0</td>\n",
       "      <td>17</td>\n",
       "      <td>8876</td>\n",
       "      <td>242</td>\n",
       "      <td>565</td>\n",
       "      <td>1222</td>\n",
       "    </tr>\n",
       "    <tr>\n",
       "      <th>200802</th>\n",
       "      <td>12</td>\n",
       "      <td>1299</td>\n",
       "      <td>461</td>\n",
       "      <td>212</td>\n",
       "      <td>21084</td>\n",
       "      <td>11</td>\n",
       "      <td>4870</td>\n",
       "      <td>858</td>\n",
       "      <td>33</td>\n",
       "      <td>1045</td>\n",
       "      <td>...</td>\n",
       "      <td>304</td>\n",
       "      <td>15</td>\n",
       "      <td>9</td>\n",
       "      <td>0</td>\n",
       "      <td>0</td>\n",
       "      <td>21</td>\n",
       "      <td>9782</td>\n",
       "      <td>260</td>\n",
       "      <td>885</td>\n",
       "      <td>1482</td>\n",
       "    </tr>\n",
       "  </tbody>\n",
       "</table>\n",
       "<p>2 rows × 54 columns</p>\n",
       "</div>"
      ],
      "text/plain": [
       "        influenza_b_virus  shivering  neuraminidase_inhibitor  \\\n",
       "200801                 14       1251                      362   \n",
       "200802                 12       1299                      461   \n",
       "\n",
       "        equine_influenza  common_cold  influenza_a_virus_subtype_h9n2  \\\n",
       "200801               187        19240                              16   \n",
       "200802               212        21084                              11   \n",
       "\n",
       "        avian_influenza  chills  influenza_a_virus_subtype_h1n1  \\\n",
       "200801             3292     777                              34   \n",
       "200802             4870     858                              33   \n",
       "\n",
       "        fatigue_(medical)       ...         influenza_a_virus_subtype_h5n1  \\\n",
       "200801                957       ...                                    218   \n",
       "200802               1045       ...                                    304   \n",
       "\n",
       "        influenza_a_virus_subtype_h3n8  influenza_a_virus_subtype_h7n3  \\\n",
       "200801                              13                               6   \n",
       "200802                              15                               9   \n",
       "\n",
       "        influenza_prevention  influenza_a_virus_subtype_h7n9  swine_influenza  \\\n",
       "200801                     0                               0               17   \n",
       "200802                     0                               0               21   \n",
       "\n",
       "        vomiting  influenza_a_virus_subtype_h3n2  orthomyxoviridae  \\\n",
       "200801      8876                             242               565   \n",
       "200802      9782                             260               885   \n",
       "\n",
       "        viral_pneumonia  \n",
       "200801             1222  \n",
       "200802             1482  \n",
       "\n",
       "[2 rows x 54 columns]"
      ]
     },
     "execution_count": 94,
     "metadata": {},
     "output_type": "execute_result"
    }
   ],
   "source": [
    "pageToViews = defaultdict(list)\n",
    "pageViewsIndex = { week['epiweek'] for week in pageViewResps }\n",
    "pageViewsIndex = list(pageViewsIndex)\n",
    "pageViewsIndex.sort()\n",
    "\n",
    "# map each article to it's weekly view counts (from 2008 to 2016)\n",
    "for week in pageViewResps:\n",
    "    page, weeklyViews = week['article'], week['count']\n",
    "    pageToViews[page].append(weeklyViews)\n",
    "    \n",
    "pageViews = pd.DataFrame.from_dict(pageToViews, orient='index', dtype='int')\n",
    "pageViews.fillna(0)\n",
    "pageViews = pageViews.transpose()\n",
    "# convert to ints, for some reasons transpose() coereces to floats\n",
    "for column in pageViews.columns:\n",
    "    pageViews[column] = pageViews[column].fillna(0.0).astype('int')\n",
    "pageViews.index = pageViewsIndex\n",
    "pageViews[:2]"
   ]
  },
  {
   "cell_type": "markdown",
   "metadata": {},
   "source": [
    "#### Putting ILInet API response in DataFrame"
   ]
  },
  {
   "cell_type": "code",
   "execution_count": 97,
   "metadata": {
    "collapsed": false
   },
   "outputs": [
    {
     "data": {
      "text/html": [
       "<div>\n",
       "<table border=\"1\" class=\"dataframe\">\n",
       "  <thead>\n",
       "    <tr style=\"text-align: right;\">\n",
       "      <th></th>\n",
       "      <th>Weekly ILI</th>\n",
       "    </tr>\n",
       "  </thead>\n",
       "  <tbody>\n",
       "    <tr>\n",
       "      <th>200801</th>\n",
       "      <td>2.254048</td>\n",
       "    </tr>\n",
       "    <tr>\n",
       "      <th>200802</th>\n",
       "      <td>2.091472</td>\n",
       "    </tr>\n",
       "  </tbody>\n",
       "</table>\n",
       "</div>"
      ],
      "text/plain": [
       "        Weekly ILI\n",
       "200801    2.254048\n",
       "200802    2.091472"
      ]
     },
     "execution_count": 97,
     "metadata": {},
     "output_type": "execute_result"
    }
   ],
   "source": [
    "wILIvalues = [ week['ili'] for week in wILIresp ]\n",
    "wILIindex = [ week['epiweek'] for week in wILIresp ]\n",
    "wILIindex.sort()\n",
    "wILI = pd.DataFrame(wIliValues, columns=['Weekly ILI'], index=wILIindex)\n",
    "wILI[:2]"
   ]
  }
 ],
 "metadata": {
  "anaconda-cloud": {},
  "kernelspec": {
   "display_name": "Python [conda env:wikidemics]",
   "language": "python",
   "name": "conda-env-wikidemics-py"
  },
  "language_info": {
   "codemirror_mode": {
    "name": "ipython",
    "version": 3
   },
   "file_extension": ".py",
   "mimetype": "text/x-python",
   "name": "python",
   "nbconvert_exporter": "python",
   "pygments_lexer": "ipython3",
   "version": "3.5.2"
  }
 },
 "nbformat": 4,
 "nbformat_minor": 1
}
