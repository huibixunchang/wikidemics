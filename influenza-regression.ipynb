{
 "cells": [
  {
   "cell_type": "markdown",
   "metadata": {},
   "source": [
    "# Forecasting Influenza with Internet Traffic\n",
    "### Purpose of this notebook\n",
    "* Explore the feasability of using linear models for epidemiological forecasting\n",
    "* In specific, to use Wikipedia Pageview logs to train linear models that can forecast weekly ILI in the United States"
   ]
  },
  {
   "cell_type": "code",
   "execution_count": 1,
   "metadata": {
    "collapsed": true
   },
   "outputs": [],
   "source": [
    "import pandas as pd\n",
    "import matplotlib.pyplot as plt\n",
    "import numpy as np\n",
    "import sklearn as sk\n",
    "from sklearn import linear_model\n",
    "%matplotlib inline"
   ]
  },
  {
   "cell_type": "markdown",
   "metadata": {},
   "source": [
    "### Retrieving Relevant Data from Data Store"
   ]
  },
  {
   "cell_type": "code",
   "execution_count": 2,
   "metadata": {
    "collapsed": false
   },
   "outputs": [
    {
     "name": "stdout",
     "output_type": "stream",
     "text": [
      "Found pageViewResps\n",
      "Found wILIresp\n",
      "Found pageViews\n",
      "Found wILI\n",
      "Found epiweeksDf\n"
     ]
    }
   ],
   "source": [
    "%run influenza-data.ipynb\n",
    "%store -r pageViews\n",
    "%store -r wILI"
   ]
  },
  {
   "cell_type": "markdown",
   "metadata": {},
   "source": [
    "### DataFrame Format Reference"
   ]
  },
  {
   "cell_type": "code",
   "execution_count": 3,
   "metadata": {
    "collapsed": false
   },
   "outputs": [
    {
     "data": {
      "text/html": [
       "<div>\n",
       "<table border=\"1\" class=\"dataframe\">\n",
       "  <thead>\n",
       "    <tr style=\"text-align: right;\">\n",
       "      <th></th>\n",
       "      <th>influenza_pandemic</th>\n",
       "      <th>cough</th>\n",
       "      <th>nasal_congestion</th>\n",
       "      <th>fatigue_(medical)</th>\n",
       "      <th>hemagglutinin_(influenza)</th>\n",
       "      <th>chills</th>\n",
       "      <th>influenza_a_virus_subtype_h5n1</th>\n",
       "      <th>influenza_a_virus_subtype_h7n7</th>\n",
       "      <th>human_flu</th>\n",
       "      <th>influenza_a_virus_subtype_h2n2</th>\n",
       "      <th>...</th>\n",
       "      <th>neuraminidase_inhibitor</th>\n",
       "      <th>influenza_a_virus_subtype_h7n9</th>\n",
       "      <th>shivering</th>\n",
       "      <th>oseltamivir</th>\n",
       "      <th>influenza_prevention</th>\n",
       "      <th>cat_flu</th>\n",
       "      <th>common_cold</th>\n",
       "      <th>orthomyxoviridae</th>\n",
       "      <th>viral_neuraminidase</th>\n",
       "      <th>influenza_a_virus_subtype_h1n2</th>\n",
       "    </tr>\n",
       "  </thead>\n",
       "  <tbody>\n",
       "    <tr>\n",
       "      <th>200801</th>\n",
       "      <td>1030</td>\n",
       "      <td>7600</td>\n",
       "      <td>3981</td>\n",
       "      <td>957</td>\n",
       "      <td>0</td>\n",
       "      <td>777</td>\n",
       "      <td>218</td>\n",
       "      <td>6</td>\n",
       "      <td>350</td>\n",
       "      <td>155</td>\n",
       "      <td>...</td>\n",
       "      <td>362</td>\n",
       "      <td>0</td>\n",
       "      <td>1251</td>\n",
       "      <td>1124</td>\n",
       "      <td>0</td>\n",
       "      <td>319</td>\n",
       "      <td>19240</td>\n",
       "      <td>565</td>\n",
       "      <td>0</td>\n",
       "      <td>14</td>\n",
       "    </tr>\n",
       "    <tr>\n",
       "      <th>200802</th>\n",
       "      <td>1642</td>\n",
       "      <td>8972</td>\n",
       "      <td>3722</td>\n",
       "      <td>1045</td>\n",
       "      <td>0</td>\n",
       "      <td>858</td>\n",
       "      <td>304</td>\n",
       "      <td>12</td>\n",
       "      <td>453</td>\n",
       "      <td>205</td>\n",
       "      <td>...</td>\n",
       "      <td>461</td>\n",
       "      <td>0</td>\n",
       "      <td>1299</td>\n",
       "      <td>1501</td>\n",
       "      <td>0</td>\n",
       "      <td>339</td>\n",
       "      <td>21084</td>\n",
       "      <td>885</td>\n",
       "      <td>0</td>\n",
       "      <td>19</td>\n",
       "    </tr>\n",
       "  </tbody>\n",
       "</table>\n",
       "<p>2 rows × 54 columns</p>\n",
       "</div>"
      ],
      "text/plain": [
       "        influenza_pandemic  cough  nasal_congestion  fatigue_(medical)  \\\n",
       "200801                1030   7600              3981                957   \n",
       "200802                1642   8972              3722               1045   \n",
       "\n",
       "        hemagglutinin_(influenza)  chills  influenza_a_virus_subtype_h5n1  \\\n",
       "200801                          0     777                             218   \n",
       "200802                          0     858                             304   \n",
       "\n",
       "        influenza_a_virus_subtype_h7n7  human_flu  \\\n",
       "200801                               6        350   \n",
       "200802                              12        453   \n",
       "\n",
       "        influenza_a_virus_subtype_h2n2               ...                \\\n",
       "200801                             155               ...                 \n",
       "200802                             205               ...                 \n",
       "\n",
       "        neuraminidase_inhibitor  influenza_a_virus_subtype_h7n9  shivering  \\\n",
       "200801                      362                               0       1251   \n",
       "200802                      461                               0       1299   \n",
       "\n",
       "        oseltamivir  influenza_prevention  cat_flu  common_cold  \\\n",
       "200801         1124                     0      319        19240   \n",
       "200802         1501                     0      339        21084   \n",
       "\n",
       "        orthomyxoviridae  viral_neuraminidase  influenza_a_virus_subtype_h1n2  \n",
       "200801               565                    0                              14  \n",
       "200802               885                    0                              19  \n",
       "\n",
       "[2 rows x 54 columns]"
      ]
     },
     "execution_count": 3,
     "metadata": {},
     "output_type": "execute_result"
    }
   ],
   "source": [
    "pageViews[:2]"
   ]
  },
  {
   "cell_type": "code",
   "execution_count": 4,
   "metadata": {
    "collapsed": false
   },
   "outputs": [
    {
     "data": {
      "text/html": [
       "<div>\n",
       "<table border=\"1\" class=\"dataframe\">\n",
       "  <thead>\n",
       "    <tr style=\"text-align: right;\">\n",
       "      <th></th>\n",
       "      <th>Weekly ILI</th>\n",
       "    </tr>\n",
       "  </thead>\n",
       "  <tbody>\n",
       "    <tr>\n",
       "      <th>200801</th>\n",
       "      <td>2.254048</td>\n",
       "    </tr>\n",
       "    <tr>\n",
       "      <th>200802</th>\n",
       "      <td>2.091472</td>\n",
       "    </tr>\n",
       "  </tbody>\n",
       "</table>\n",
       "</div>"
      ],
      "text/plain": [
       "        Weekly ILI\n",
       "200801    2.254048\n",
       "200802    2.091472"
      ]
     },
     "execution_count": 4,
     "metadata": {},
     "output_type": "execute_result"
    }
   ],
   "source": [
    "wILI[:2]"
   ]
  },
  {
   "cell_type": "markdown",
   "metadata": {},
   "source": [
    "## Simple Linear Regression\n",
    "Have data from 2008-2016. I will use **6 years for training (2008-2013), 3 years for validating (2014-2016)**"
   ]
  },
  {
   "cell_type": "code",
   "execution_count": 5,
   "metadata": {
    "collapsed": false
   },
   "outputs": [],
   "source": [
    "wILItrain = np.array(wILI.loc[200801:201352])\n",
    "wILItest = np.array(wILI.loc[201401:201652])\n",
    "\n",
    "wILItrain = wILItrain.reshape(len(wILItrain), 1)\n",
    "wILItest = wILItest.reshape(len(wILItest), 1)"
   ]
  },
  {
   "cell_type": "markdown",
   "metadata": {},
   "source": [
    "### Finding Most Highly Correlated Articles\n",
    "Using the Pearson coefficient"
   ]
  },
  {
   "cell_type": "code",
   "execution_count": 91,
   "metadata": {
    "collapsed": false
   },
   "outputs": [
    {
     "data": {
      "text/plain": [
       "[('influenza_a_virus', 0.63450513478840198),\n",
       " ('influenza_prevention', 0.43605492425828085),\n",
       " ('flu_season', 0.41945066734649017),\n",
       " ('influenza', 0.41666222785105261),\n",
       " ('influenza_a_virus_subtype_h1n2', 0.40999249521206299),\n",
       " ('influenza_vaccine', 0.37589161673363947),\n",
       " ('oseltamivir', 0.37359017238211584),\n",
       " ('common_cold', 0.3525967831122489),\n",
       " ('viral_pneumonia', 0.34392147569674275),\n",
       " ('influenza_a_virus_subtype_h1n1', 0.33120886165169416)]"
      ]
     },
     "execution_count": 91,
     "metadata": {},
     "output_type": "execute_result"
    }
   ],
   "source": [
    "pearsonCoefs = []\n",
    "for article in pageViews.columns:\n",
    "    df = pd.DataFrame({'wILI': wILI['Weekly ILI'].values,\n",
    "                       'Views': pageViews[article].values})\n",
    "    pearsonCoefs.append( (article, df.corr().loc['Views', 'wILI'] ) )\n",
    "pearsonCoefs.sort(key=lambda t: t[1], reverse=True) # sort by pearson coeff\n",
    "pearsonCoefs[:10] # top 10"
   ]
  },
  {
   "cell_type": "markdown",
   "metadata": {},
   "source": [
    "### Simple Linear Regression On Each Article"
   ]
  },
  {
   "cell_type": "code",
   "execution_count": 35,
   "metadata": {
    "collapsed": false,
    "scrolled": true
   },
   "outputs": [
    {
     "name": "stdout",
     "output_type": "stream",
     "text": [
      "Coefficients: \n",
      " [[ 0.00155694]]\n",
      "Mean squared error: 0.77\n",
      "Variance score: 0.10\n"
     ]
    },
    {
     "data": {
      "image/png": "[encoded data removed]",
      "text/plain": [
       "<matplotlib.figure.Figure at 0x7eff50672438>"
      ]
     },
     "metadata": {},
     "output_type": "display_data"
    }
   ],
   "source": [
    "minMSE, bestArticle = float(\"inf\"), None\n",
    "\n",
    "# find article that best predicts wILI\n",
    "for article in pageViews.columns:\n",
    "    pageViewsTrain = np.array(pageViews.loc[200801:201352, [article] ] )\n",
    "    pageViewsTest = np.array(pageViews.loc[201401:201652, [article] ])\n",
    "    # reshape for compatability with sklearn\n",
    "    pageViewsTrain = pageViewsTrain.reshape(len(pageViewsTrain), 1)\n",
    "    pageViewsTest = pageViewsTest.reshape(len(pageViewsTest), 1)\n",
    "    \n",
    "    regr = linear_model.LinearRegression()\n",
    "    regr.fit(pageViewsTrain, wILItrain)\n",
    "    \n",
    "    thisMSE = np.mean((regr.predict(pageViewsTest) - wILItest) ** 2)\n",
    "\n",
    "    if thisMSE < minMSE:\n",
    "        minMSE, bestArticle = minMSE, article\n",
    "\n",
    "pageViewsTrain = np.array(pageViews.loc[200801:201352, bestArticle])\n",
    "pageViewsTest = np.array(pageViews.loc[201401:201652, bestArticle])\n",
    "# reshape for compatability with sklearn\n",
    "pageViewsTrain = pageViewsTrain.reshape(len(pageViewsTrain), 1)\n",
    "pageViewsTest = pageViewsTest.reshape(len(pageViewsTest), 1)\n",
    "\n",
    "regr = linear_model.LinearRegression()\n",
    "regr.fit(pageViewsTrain, wILItrain)\n",
    "# The coefficients\n",
    "print('Coefficients: \\n', regr.coef_)\n",
    "# The mean squared error\n",
    "print(\"Mean squared error: %.2f\"\n",
    "      % np.mean((regr.predict(pageViewsTest) - wILItest) ** 2))\n",
    "# Explained variance score: 1 is perfect prediction\n",
    "print('Variance score: %.2f' % regr.score(pageViewsTest, wILItest))\n",
    "\n",
    "# Plot outputs\n",
    "plt.scatter(pageViewsTest, wILItest,  color='black')\n",
    "plt.plot(pageViewsTest, regr.predict(pageViewsTest), color='blue',\n",
    "         linewidth=3)\n",
    "\n",
    "plt.xticks(())\n",
    "plt.yticks(())\n",
    "\n",
    "plt.show()"
   ]
  },
  {
   "cell_type": "markdown",
   "metadata": {},
   "source": [
    "### Multiple Linear Regression On Most Highly Correlated Articles"
   ]
  },
  {
   "cell_type": "code",
   "execution_count": 92,
   "metadata": {
    "collapsed": false
   },
   "outputs": [
    {
     "name": "stdout",
     "output_type": "stream",
     "text": [
      "Coefficients: \n",
      " [[  1.64458320e-04   6.74082094e-04  -2.17993899e-04  -1.11483304e-06\n",
      "    2.66669665e-04  -5.07088319e-05   1.95149196e-05   7.75766421e-05\n",
      "    5.37796884e-05   9.67395960e-06]]\n",
      "Mean squared error: 0.87\n",
      "Variance score: -0.02\n"
     ]
    }
   ],
   "source": [
    "selectedArticles = [ t[0] for t in pearsonCoefs[:10] ]\n",
    "pageViewsTrain = np.array(pageViews.loc[ 200801:201352, selectedArticles])\n",
    "pageViewsTest = np.array(pageViews.loc[201401:201652, selectedArticles])\n",
    "\n",
    "regr = linear_model.LinearRegression()\n",
    "regr.fit(pageViewsTrain, wILItrain)\n",
    "\n",
    "# The coefficients\n",
    "print('Coefficients: \\n', regr.coef_)\n",
    "# The mean squared error\n",
    "print(\"Mean squared error: %.2f\"\n",
    "      % np.mean((regr.predict(pageViewsTest) - wILItest) ** 2))\n",
    "# Explained variance score: 1 is perfect prediction\n",
    "print('Variance score: %.2f' % regr.score(pageViewsTest, wILItest))"
   ]
  }
 ],
 "metadata": {
  "anaconda-cloud": {},
  "kernelspec": {
   "display_name": "Python [conda env:wikidemics]",
   "language": "python",
   "name": "conda-env-wikidemics-py"
  },
  "language_info": {
   "codemirror_mode": {
    "name": "ipython",
    "version": 3
   },
   "file_extension": ".py",
   "mimetype": "text/x-python",
   "name": "python",
   "nbconvert_exporter": "python",
   "pygments_lexer": "ipython3",
   "version": "3.5.2"
  }
 },
 "nbformat": 4,
 "nbformat_minor": 1
}
