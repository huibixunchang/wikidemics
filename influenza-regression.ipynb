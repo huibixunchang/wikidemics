{
 "cells": [
  {
   "cell_type": "markdown",
   "metadata": {
    "deletable": true,
    "editable": true
   },
   "source": [
    "# Forecasting Influenza with Internet Traffic\n",
    "### Purpose of this notebook\n",
    "* Explore the feasability of using linear models for epidemiological forecasting\n",
    "* In specific, to use Wikipedia Pageview logs to train linear models that can forecast weekly ILI in the United States\n",
    "\n",
    "### TODO:\n",
    "* Express the DELPHI pageviews dataset as a fracton of the total page views for the project that week\n",
    "* Perform LASSO regression"
   ]
  },
  {
   "cell_type": "code",
   "execution_count": 1,
   "metadata": {
    "collapsed": false,
    "deletable": true,
    "editable": true,
    "scrolled": true
   },
   "outputs": [],
   "source": [
    "import pandas as pd\n",
    "import matplotlib.pyplot as plt\n",
    "import numpy as np\n",
    "import sklearn as sk\n",
    "from sklearn import linear_model\n",
    "from sklearn.model_selection import train_test_split\n",
    "from sklearn.metrics import r2_score"
   ]
  },
  {
   "cell_type": "markdown",
   "metadata": {
    "deletable": true,
    "editable": true
   },
   "source": [
    "### Retrieving Relevant Data from Data Store"
   ]
  },
  {
   "cell_type": "code",
   "execution_count": 2,
   "metadata": {
    "collapsed": false,
    "deletable": true,
    "editable": true
   },
   "outputs": [],
   "source": [
    "%%capture\n",
    "%run influenza-data.ipynb\n",
    "%store -r pageViews\n",
    "%store -r lanlPageViews\n",
    "%store -r wILI"
   ]
  },
  {
   "cell_type": "markdown",
   "metadata": {
    "deletable": true,
    "editable": true
   },
   "source": [
    "### Create A Normalized Page Views DataFrame\n",
    "Create a time series containing the number of requests for each week, expressed as a fraction of the projects total requests. (an example of a project is en.wikipedia -- the values are very large)"
   ]
  },
  {
   "cell_type": "code",
   "execution_count": 3,
   "metadata": {
    "collapsed": true,
    "deletable": true,
    "editable": true
   },
   "outputs": [],
   "source": [
    "cols = lanlPageViews.columns\n",
    "relativePageViews = lanlPageViews.loc[200750:,cols[:-1]].div(lanlPageViews.loc[200750:, 'en'], axis=0)"
   ]
  },
  {
   "cell_type": "markdown",
   "metadata": {
    "deletable": true,
    "editable": true
   },
   "source": [
    "### Normalizing the page views dataframes"
   ]
  },
  {
   "cell_type": "code",
   "execution_count": 4,
   "metadata": {
    "collapsed": true,
    "deletable": true,
    "editable": true
   },
   "outputs": [],
   "source": [
    "def normalizeDf(df):\n",
    "    # normalize the page views to a 0-1 scale\n",
    "    return ( df - df. min() ) / (df.max() - df.min() )\n",
    "\n",
    "pageViews = normalizeDf(pageViews)\n",
    "lanlPageViews = normalizeDf(lanlPageViews)"
   ]
  },
  {
   "cell_type": "markdown",
   "metadata": {
    "deletable": true,
    "editable": true
   },
   "source": [
    "### Finding Most Highly Correlated Articles\n",
    "Using the Pearson's r coefficient"
   ]
  },
  {
   "cell_type": "code",
   "execution_count": 5,
   "metadata": {
    "collapsed": false,
    "deletable": true,
    "editable": true
   },
   "outputs": [],
   "source": [
    "def correlateArticles(pageViewsDf, wILIdf, s, e):\n",
    "    # top pearson r coefficients\n",
    "    correlations = []\n",
    "    for article in pageViewsDf.columns:\n",
    "        df = pd.DataFrame({'wILI': wILI.loc[s:e, 'Weekly ILI'],\n",
    "                           'Views': pageViewsDf.loc[s:e, article]})\n",
    "        correlations.append( (article, df.corr().loc['Views', 'wILI']))\n",
    "    correlations.sort(key=lambda t: t[1], reverse=True)\n",
    "    return correlations"
   ]
  },
  {
   "cell_type": "code",
   "execution_count": 6,
   "metadata": {
    "collapsed": false,
    "deletable": true,
    "editable": true
   },
   "outputs": [
    {
     "data": {
      "text/plain": [
       "[('influenza_a_virus', 0.62190118638311898),\n",
       " ('influenza_prevention', 0.42877100952714736),\n",
       " ('flu_season', 0.41242541315128961),\n",
       " ('influenza', 0.41110924295814455),\n",
       " ('influenza_a_virus_subtype_h1n2', 0.40264204754006272)]"
      ]
     },
     "execution_count": 6,
     "metadata": {},
     "output_type": "execute_result"
    }
   ],
   "source": [
    "# DELPHI dataset correlations\n",
    "s, e = pageViews.index[0], pageViews.index[-1]\n",
    "correlateArticles(pageViews, wILI, s, e)[:5]"
   ]
  },
  {
   "cell_type": "code",
   "execution_count": 7,
   "metadata": {
    "collapsed": false,
    "deletable": true,
    "editable": true
   },
   "outputs": [
    {
     "data": {
      "text/plain": [
       "[('influenza_a_virus', 0.59402423130968529),\n",
       " ('common_cold', 0.45560158009905971),\n",
       " ('influenza_prevention', 0.4499103911003472),\n",
       " ('flu_season', 0.4352735105043477),\n",
       " ('influenza_a_virus_subtype_h1n2', 0.42699022970183853)]"
      ]
     },
     "execution_count": 7,
     "metadata": {},
     "output_type": "execute_result"
    }
   ],
   "source": [
    "# LANL dataset correlations\n",
    "s, e = lanlPageViews.index[0], lanlPageViews.index[-1]\n",
    "correlateArticles(lanlPageViews, wILI, 200750, 201401)[:5]"
   ]
  },
  {
   "cell_type": "markdown",
   "metadata": {
    "deletable": true,
    "editable": true
   },
   "source": [
    "### Removing the 2009 Flu Pandemic Data\n",
    "The pandemic resulted in an unusual increase in flu related searches, which decreases the accuracy of the model.\n",
    "This occured between \n",
    "> epiweeks 200909 - 200952"
   ]
  },
  {
   "cell_type": "code",
   "execution_count": 8,
   "metadata": {
    "collapsed": false,
    "deletable": true,
    "editable": true
   },
   "outputs": [],
   "source": [
    "pandemicEpiweeks = list(range(200914, 200940))\n",
    "pageViewsFiltered = pageViews.drop(pandemicEpiweeks)\n",
    "lanlPageViewsFiltered = lanlPageViews.drop(pandemicEpiweeks)\n",
    "relativePageViewsFiltered = relativePageViews.drop(pandemicEpiweeks)\n",
    "wILIfiltered = wILI.drop(pandemicEpiweeks)"
   ]
  },
  {
   "cell_type": "code",
   "execution_count": 9,
   "metadata": {
    "collapsed": false,
    "deletable": true,
    "editable": true
   },
   "outputs": [
    {
     "data": {
      "text/plain": [
       "Int64Index([201250, 201251, 201252, 201301, 201302, 201303, 201304, 201305,\n",
       "            201306, 201307, 201308, 201309, 201310],\n",
       "           dtype='int64')"
      ]
     },
     "execution_count": 9,
     "metadata": {},
     "output_type": "execute_result"
    }
   ],
   "source": [
    "pageViewsFiltered.loc[201250:201310].index"
   ]
  },
  {
   "cell_type": "code",
   "execution_count": 10,
   "metadata": {
    "collapsed": false,
    "deletable": true,
    "editable": true
   },
   "outputs": [
    {
     "data": {
      "text/plain": [
       "[('human_flu', 0.8559073384318262),\n",
       " ('influenzavirus_a', 0.75646761376852156),\n",
       " ('influenzavirus_c', 0.74632089757026099),\n",
       " ('oseltamivir', 0.73642409239939188),\n",
       " ('influenza', 0.67814647192668143)]"
      ]
     },
     "execution_count": 10,
     "metadata": {},
     "output_type": "execute_result"
    }
   ],
   "source": [
    "correlateArticles(pageViewsFiltered, wILIfiltered, 200801, 201401)[:5]"
   ]
  },
  {
   "cell_type": "code",
   "execution_count": 11,
   "metadata": {
    "collapsed": false,
    "deletable": true,
    "editable": true
   },
   "outputs": [
    {
     "data": {
      "text/plain": [
       "[('human_flu', 0.85716166043635189),\n",
       " ('influenzavirus_a', 0.75635957497415285),\n",
       " ('influenzavirus_c', 0.74900782524929277),\n",
       " ('oseltamivir', 0.73661257456932394),\n",
       " ('influenza', 0.67776258367473075)]"
      ]
     },
     "execution_count": 11,
     "metadata": {},
     "output_type": "execute_result"
    }
   ],
   "source": [
    "correlateArticles(lanlPageViewsFiltered, wILIfiltered, 200801, 201401)[:5]"
   ]
  },
  {
   "cell_type": "code",
   "execution_count": 12,
   "metadata": {
    "collapsed": false,
    "deletable": true,
    "editable": true,
    "scrolled": true
   },
   "outputs": [
    {
     "data": {
      "text/plain": [
       "[('human_flu', 0.87629400815946001),\n",
       " ('influenza', 0.82017016314696567),\n",
       " ('influenzavirus_c', 0.79534428942405599),\n",
       " ('oseltamivir', 0.76042772035906914),\n",
       " ('influenzavirus_a', 0.71107611633646028)]"
      ]
     },
     "execution_count": 12,
     "metadata": {},
     "output_type": "execute_result"
    }
   ],
   "source": [
    "correlateArticles(relativePageViewsFiltered, wILIfiltered, 200801, 201401)[:5]"
   ]
  },
  {
   "cell_type": "markdown",
   "metadata": {
    "deletable": true,
    "editable": true
   },
   "source": [
    "### Removing the 2013 preseason\n",
    "> epiweeks 201251-201305"
   ]
  },
  {
   "cell_type": "code",
   "execution_count": 13,
   "metadata": {
    "collapsed": false,
    "deletable": true,
    "editable": true
   },
   "outputs": [],
   "source": [
    "preseasonEpiweeks = list(pageViewsFiltered.loc[201250:201310].index)\n",
    "pageViewsFiltered = pageViewsFiltered.drop(preseasonEpiweeks)\n",
    "lanlPageViewsFiltered = lanlPageViewsFiltered.drop(preseasonEpiweeks)\n",
    "relativePageViewsFiltered = relativePageViewsFiltered.drop(preseasonEpiweeks)\n",
    "wILIfiltered = wILIfiltered.drop(preseasonEpiweeks)"
   ]
  },
  {
   "cell_type": "code",
   "execution_count": 14,
   "metadata": {
    "collapsed": false,
    "deletable": true,
    "editable": true
   },
   "outputs": [
    {
     "data": {
      "text/plain": [
       "[('human_flu', 0.87586520439712767),\n",
       " ('influenzavirus_a', 0.82099611576750731),\n",
       " ('influenzavirus_c', 0.73026319436724652),\n",
       " ('oseltamivir', 0.70672459078000172),\n",
       " ('influenza', 0.67298208185697916)]"
      ]
     },
     "execution_count": 14,
     "metadata": {},
     "output_type": "execute_result"
    }
   ],
   "source": [
    "correlateArticles(pageViewsFiltered, wILIfiltered, 200801, 201401)[:5]"
   ]
  },
  {
   "cell_type": "code",
   "execution_count": 15,
   "metadata": {
    "collapsed": false,
    "deletable": true,
    "editable": true
   },
   "outputs": [
    {
     "data": {
      "text/plain": [
       "[('human_flu', 0.87710336101242525),\n",
       " ('influenzavirus_a', 0.82087560743103416),\n",
       " ('influenzavirus_c', 0.73345018010156426),\n",
       " ('oseltamivir', 0.7070102381335166),\n",
       " ('influenza', 0.67285342021943306)]"
      ]
     },
     "execution_count": 15,
     "metadata": {},
     "output_type": "execute_result"
    }
   ],
   "source": [
    "correlateArticles(lanlPageViewsFiltered, wILIfiltered, 200801, 201401)[:5]"
   ]
  },
  {
   "cell_type": "code",
   "execution_count": 16,
   "metadata": {
    "collapsed": false,
    "deletable": true,
    "editable": true
   },
   "outputs": [
    {
     "data": {
      "text/plain": [
       "[('human_flu', 0.9004214674426515),\n",
       " ('influenza', 0.82273559360988779),\n",
       " ('influenzavirus_c', 0.80300494604184325),\n",
       " ('influenzavirus_a', 0.79380337546619106),\n",
       " ('neuraminidase_inhibitor', 0.73116913715345544)]"
      ]
     },
     "execution_count": 16,
     "metadata": {},
     "output_type": "execute_result"
    }
   ],
   "source": [
    "correlateArticles(relativePageViewsFiltered, wILIfiltered, 200801, 201401)[:5]"
   ]
  },
  {
   "cell_type": "markdown",
   "metadata": {
    "deletable": true,
    "editable": true
   },
   "source": [
    "### Conclusions about the data\n",
    "* Filtering out the noisy 2009 flu pandemic and 2013 preseason increases the correlation of the data.\n",
    "* Expressing the page views as a fraction of the project's total views further increases the correlation of the data. "
   ]
  },
  {
   "cell_type": "markdown",
   "metadata": {
    "deletable": true,
    "editable": true
   },
   "source": [
    "### Simple Linear Regression Nowcast On Each Article\n",
    "For a nowcast, the page view timeseries is not timeshifted at all. Whereas in a 1 week forcast, \n",
    "we timeshift the page view timeseries one week (e.g. 200801 --> 200802)"
   ]
  },
  {
   "cell_type": "code",
   "execution_count": 17,
   "metadata": {
    "collapsed": true,
    "deletable": true,
    "editable": true
   },
   "outputs": [],
   "source": [
    "def simpleLinearRegression(pageViewsDf, wILIdf, train_s, train_e, test_s, test_e, forecastOffset):\n",
    "    \"\"\"\n",
    "    Run a simple single variable linear regr. on between an articles page views and wILI.\n",
    "    The forecast offset is how many weeks in advance you want to predict\n",
    "    \"\"\"\n",
    "    results = pd.DataFrame(index=pageViewsDf.columns)\n",
    "    # doing this shift will assign the previous weeks views the the curr weeks index\n",
    "    shftedPageViews = pageViewsDf.shift(forecastOffset)\n",
    "    for article in pageViewsDf.columns:\n",
    "        X_train = shftedPageViews.loc[train_s:train_e, [article]]\n",
    "        X_test = shftedPageViews.loc[test_s:test_e, [article]]\n",
    "        \n",
    "        Y_train = wILIdf.loc[train_s:train_e]\n",
    "        y_true = wILIdf.loc[test_s:test_e]\n",
    "        \n",
    "        # run the regression & evaluate\n",
    "        regr = linear_model.LinearRegression()\n",
    "        regr.fit(X_train, Y_train)\n",
    "        \n",
    "        y_pred = regr.predict(X_test)\n",
    "        \n",
    "        MSE =  np.mean((regr.predict(X_test) - y_true) ** 2)[0]\n",
    "        r2  = r2_score(y_true, y_pred)\n",
    "        \n",
    "        results.loc[article, 'MSE'] = MSE\n",
    "        results.loc[article, 'R2'] = r2\n",
    "        \n",
    "    return results.sort_values('R2', ascending=False)"
   ]
  },
  {
   "cell_type": "code",
   "execution_count": 28,
   "metadata": {
    "collapsed": false,
    "deletable": true,
    "editable": true
   },
   "outputs": [
    {
     "name": "stdout",
     "output_type": "stream",
     "text": [
      "Top 3 Simp. LR results from DELPHI pageviews df\n"
     ]
    },
    {
     "data": {
      "text/html": [
       "<div>\n",
       "<table border=\"1\" class=\"dataframe\">\n",
       "  <thead>\n",
       "    <tr style=\"text-align: right;\">\n",
       "      <th></th>\n",
       "      <th>MSE</th>\n",
       "      <th>R2</th>\n",
       "    </tr>\n",
       "  </thead>\n",
       "  <tbody>\n",
       "    <tr>\n",
       "      <th>influenza_a_virus</th>\n",
       "      <td>0.455013</td>\n",
       "      <td>0.506797</td>\n",
       "    </tr>\n",
       "    <tr>\n",
       "      <th>oseltamivir</th>\n",
       "      <td>0.637085</td>\n",
       "      <td>0.309443</td>\n",
       "    </tr>\n",
       "    <tr>\n",
       "      <th>influenza_a_virus_subtype_h3n2</th>\n",
       "      <td>0.643768</td>\n",
       "      <td>0.302200</td>\n",
       "    </tr>\n",
       "  </tbody>\n",
       "</table>\n",
       "</div>"
      ],
      "text/plain": [
       "                                     MSE        R2\n",
       "influenza_a_virus               0.455013  0.506797\n",
       "oseltamivir                     0.637085  0.309443\n",
       "influenza_a_virus_subtype_h3n2  0.643768  0.302200"
      ]
     },
     "execution_count": 28,
     "metadata": {},
     "output_type": "execute_result"
    }
   ],
   "source": [
    "res = simpleLinearRegression(pageViewsFiltered, wILIfiltered, train_s=200801, train_e=201401, \n",
    "                       test_s=201401, test_e=201652, forecastOffset=1)\n",
    "print('Top 3 Simp. LR results from DELPHI pageviews df')\n",
    "res[:3]"
   ]
  },
  {
   "cell_type": "code",
   "execution_count": 29,
   "metadata": {
    "collapsed": false,
    "deletable": true,
    "editable": true
   },
   "outputs": [
    {
     "name": "stdout",
     "output_type": "stream",
     "text": [
      "Top 3 Simp. LR results from QUAC pageviews df\n"
     ]
    },
    {
     "data": {
      "text/html": [
       "<div>\n",
       "<table border=\"1\" class=\"dataframe\">\n",
       "  <thead>\n",
       "    <tr style=\"text-align: right;\">\n",
       "      <th></th>\n",
       "      <th>MSE</th>\n",
       "      <th>R2</th>\n",
       "    </tr>\n",
       "  </thead>\n",
       "  <tbody>\n",
       "    <tr>\n",
       "      <th>human_flu</th>\n",
       "      <td>0.276378</td>\n",
       "      <td>0.473883</td>\n",
       "    </tr>\n",
       "    <tr>\n",
       "      <th>oseltamivir</th>\n",
       "      <td>0.386100</td>\n",
       "      <td>0.265014</td>\n",
       "    </tr>\n",
       "    <tr>\n",
       "      <th>influenza_a_virus_subtype_h1n1</th>\n",
       "      <td>0.410433</td>\n",
       "      <td>0.218694</td>\n",
       "    </tr>\n",
       "  </tbody>\n",
       "</table>\n",
       "</div>"
      ],
      "text/plain": [
       "                                     MSE        R2\n",
       "human_flu                       0.276378  0.473883\n",
       "oseltamivir                     0.386100  0.265014\n",
       "influenza_a_virus_subtype_h1n1  0.410433  0.218694"
      ]
     },
     "execution_count": 29,
     "metadata": {},
     "output_type": "execute_result"
    }
   ],
   "source": [
    "res = simpleLinearRegression(pageViewsFiltered, wILIfiltered, train_s=200751, train_e=201152, \n",
    "                       test_s=201201, test_e=201408, forecastOffset=0)\n",
    "print('Top 3 Simp. LR results from QUAC pageviews df')\n",
    "res[:3]"
   ]
  },
  {
   "cell_type": "code",
   "execution_count": 30,
   "metadata": {
    "collapsed": false,
    "deletable": true,
    "editable": true
   },
   "outputs": [
    {
     "name": "stdout",
     "output_type": "stream",
     "text": [
      "Top 5 Simp. LR results from LANL relative pageviews df\n"
     ]
    },
    {
     "data": {
      "text/html": [
       "<div>\n",
       "<table border=\"1\" class=\"dataframe\">\n",
       "  <thead>\n",
       "    <tr style=\"text-align: right;\">\n",
       "      <th></th>\n",
       "      <th>MSE</th>\n",
       "      <th>R2</th>\n",
       "    </tr>\n",
       "  </thead>\n",
       "  <tbody>\n",
       "    <tr>\n",
       "      <th>human_flu</th>\n",
       "      <td>0.201473</td>\n",
       "      <td>0.616473</td>\n",
       "    </tr>\n",
       "    <tr>\n",
       "      <th>oseltamivir</th>\n",
       "      <td>0.300775</td>\n",
       "      <td>0.427441</td>\n",
       "    </tr>\n",
       "    <tr>\n",
       "      <th>influenzavirus_c</th>\n",
       "      <td>0.313682</td>\n",
       "      <td>0.402871</td>\n",
       "    </tr>\n",
       "    <tr>\n",
       "      <th>viral_pneumonia</th>\n",
       "      <td>0.352165</td>\n",
       "      <td>0.329614</td>\n",
       "    </tr>\n",
       "    <tr>\n",
       "      <th>influenza_a_virus_subtype_h1n1</th>\n",
       "      <td>0.378586</td>\n",
       "      <td>0.279319</td>\n",
       "    </tr>\n",
       "  </tbody>\n",
       "</table>\n",
       "</div>"
      ],
      "text/plain": [
       "                                     MSE        R2\n",
       "human_flu                       0.201473  0.616473\n",
       "oseltamivir                     0.300775  0.427441\n",
       "influenzavirus_c                0.313682  0.402871\n",
       "viral_pneumonia                 0.352165  0.329614\n",
       "influenza_a_virus_subtype_h1n1  0.378586  0.279319"
      ]
     },
     "execution_count": 30,
     "metadata": {},
     "output_type": "execute_result"
    }
   ],
   "source": [
    "res = simpleLinearRegression(relativePageViewsFiltered, wILIfiltered, train_s=200751, train_e=201152, \n",
    "                       test_s=201201, test_e=201408, forecastOffset=0)\n",
    "print('Top 5 Simp. LR results from LANL relative pageviews df')\n",
    "res[:5]"
   ]
  },
  {
   "cell_type": "markdown",
   "metadata": {
    "deletable": true,
    "editable": true
   },
   "source": [
    "### Multiple Linear Regression Nocast On Most Highly Correlated Articles"
   ]
  },
  {
   "cell_type": "code",
   "execution_count": 31,
   "metadata": {
    "collapsed": false,
    "deletable": true,
    "editable": true,
    "scrolled": true
   },
   "outputs": [],
   "source": [
    "def multipleLinearRegression(pageViewsDf, wILIdf, train_s, train_e, test_s, test_e, forecastOffset, articles):\n",
    "    \"\"\"\n",
    "    Learn a multiple linear regression model on the articles passed in, from train_s to train_e.\n",
    "    \"\"\"\n",
    "    result = pd.DataFrame()\n",
    "    # doing this shift will assign the previous weeks views the the curr weeks index\n",
    "    shftedPageViews = pageViewsDf.shift(forecastOffset)\n",
    "    \n",
    "    X_train = shftedPageViews.loc[train_s:train_e, articles]\n",
    "    X_test = shftedPageViews.loc[test_s:test_e, articles]\n",
    "    \n",
    "    Y_train = wILIdf.loc[train_s:train_e]\n",
    "    y_true = wILIdf.loc[test_s:test_e]\n",
    "\n",
    "    print('Training from:', train_s, 'to', train_e, 'for a total of', len(X_train), ' weeks')\n",
    "    print('Testing from', test_s, 'to', test_e, 'for a total of', len(X_test), ' weeks')\n",
    "    totalSamples = len(X_train) + len(X_test)\n",
    "    trainPct = int((len(X_train) / totalSamples)*100)\n",
    "    print('Split:', trainPct, '/', 100-trainPct)\n",
    "    # run the regression & evaluate\n",
    "    regr = linear_model.LinearRegression()\n",
    "    regr.fit(X_train, Y_train)\n",
    "    y_pred = regr.predict(X_test)\n",
    "\n",
    "    MSE =  np.mean((y_pred - y_true) ** 2)[0]\n",
    "    r2 = r2_score(y_true, y_pred)\n",
    "        \n",
    "    result.loc['Result', 'MSE'] = MSE\n",
    "    result.loc['Result', 'R2'] = r2\n",
    "        \n",
    "    return result, y_true, y_pred"
   ]
  },
  {
   "cell_type": "code",
   "execution_count": 32,
   "metadata": {
    "collapsed": false,
    "deletable": true,
    "editable": true
   },
   "outputs": [
    {
     "name": "stdout",
     "output_type": "stream",
     "text": [
      "Training from: 200801 to 201226 for a total of 209  weeks\n",
      "Testing from 201226 to 201401 for a total of 67  weeks\n",
      "Split: 75 / 25\n",
      "Mult. LR results from DELPHI pageviews df w/ top 10 correlated articles\n"
     ]
    },
    {
     "data": {
      "text/html": [
       "<div>\n",
       "<table border=\"1\" class=\"dataframe\">\n",
       "  <thead>\n",
       "    <tr style=\"text-align: right;\">\n",
       "      <th></th>\n",
       "      <th>MSE</th>\n",
       "      <th>R2</th>\n",
       "    </tr>\n",
       "  </thead>\n",
       "  <tbody>\n",
       "    <tr>\n",
       "      <th>Result</th>\n",
       "      <td>0.257878</td>\n",
       "      <td>0.498668</td>\n",
       "    </tr>\n",
       "  </tbody>\n",
       "</table>\n",
       "</div>"
      ],
      "text/plain": [
       "             MSE        R2\n",
       "Result  0.257878  0.498668"
      ]
     },
     "execution_count": 32,
     "metadata": {},
     "output_type": "execute_result"
    },
    {
     "data": {
      "image/png": "[encoded data removed]",
      "text/plain": [
       "<matplotlib.figure.Figure at 0x7fc1d405d0b8>"
      ]
     },
     "metadata": {},
     "output_type": "display_data"
    }
   ],
   "source": [
    "train_s, train_e = 200801, 201226\n",
    "test_s, test_e = 201226, 201401\n",
    "# top correlated articles by pearson coef\n",
    "topArticlesAllYears = [ t[0] for t in correlateArticles(relativePageViewsFiltered, wILIfiltered, train_s, train_e)[:5] ]\n",
    "topArticlesTraining = [ t[0] for t in correlateArticles(relativePageViewsFiltered, wILIfiltered, train_s, train_e)[:5] ]\n",
    "\n",
    "res, y_true, y_pred = multipleLinearRegression(pageViewsFiltered, wILIfiltered, train_s=train_s, train_e=train_e, \n",
    "                               test_s=test_s, test_e=test_e, forecastOffset=0, articles=topArticlesTraining)\n",
    "\n",
    "index = list( map(epiweekToDatetime, list(pageViewsFiltered.loc[test_s:test_e].index)) )\n",
    "\n",
    "y = pd.DataFrame({'Actual': y_true.values.reshape(len(y_true)), \n",
    "                  'Predictions': y_pred.reshape(len(y_pred))}, \n",
    "                  index=index )\n",
    "\n",
    "y.plot(figsize=(10,5))\n",
    "print('Mult. LR results from DELPHI pageviews df w/ top 10 correlated articles')\n",
    "res"
   ]
  },
  {
   "cell_type": "code",
   "execution_count": 33,
   "metadata": {
    "collapsed": false,
    "deletable": true,
    "editable": true
   },
   "outputs": [
    {
     "name": "stdout",
     "output_type": "stream",
     "text": [
      "Training from: 201101 to 201320 for a total of 111  weeks\n",
      "Testing from 201321 to 201409 for a total of 41  weeks\n",
      "Split: 73 / 27\n",
      "Mult. LR results from QUAC pageviews df w/ top 10 correlated articles\n"
     ]
    },
    {
     "data": {
      "text/html": [
       "<div>\n",
       "<table border=\"1\" class=\"dataframe\">\n",
       "  <thead>\n",
       "    <tr style=\"text-align: right;\">\n",
       "      <th></th>\n",
       "      <th>MSE</th>\n",
       "      <th>R2</th>\n",
       "    </tr>\n",
       "  </thead>\n",
       "  <tbody>\n",
       "    <tr>\n",
       "      <th>Result</th>\n",
       "      <td>0.139564</td>\n",
       "      <td>0.853059</td>\n",
       "    </tr>\n",
       "  </tbody>\n",
       "</table>\n",
       "</div>"
      ],
      "text/plain": [
       "             MSE        R2\n",
       "Result  0.139564  0.853059"
      ]
     },
     "execution_count": 33,
     "metadata": {},
     "output_type": "execute_result"
    },
    {
     "data": {
      "image/png": "[encoded data removed]",
      "text/plain": [
       "<matplotlib.figure.Figure at 0x7fc1c562f278>"
      ]
     },
     "metadata": {},
     "output_type": "display_data"
    }
   ],
   "source": [
    "train_s, train_e = 201101, 201320\n",
    "test_s, test_e = 201321, 201409\n",
    "\n",
    "top10Articles = [ t[0] for t in correlateArticles(lanlPageViews, wILI, 200750, 201152)[:5] ]\n",
    "\n",
    "res, y_true, y_pred = multipleLinearRegression(lanlPageViewsFiltered, wILIfiltered, train_s=train_s, train_e=train_e, \n",
    "                       test_s=test_s, test_e=test_e, forecastOffset=0, articles=top10Articles)\n",
    "\n",
    "index = list( map(epiweekToDatetime, list(lanlPageViewsFiltered.loc[test_s:test_e].index)) )\n",
    "\n",
    "y = pd.DataFrame({'Actual': y_true.values.reshape(len(y_true)), \n",
    "                  'Predictions': y_pred.reshape(len(y_pred))}, \n",
    "                  index=index )\n",
    "\n",
    "y.plot(figsize=(10,5))\n",
    "print('Mult. LR results from QUAC pageviews df w/ top 10 correlated articles')\n",
    "res[:5]"
   ]
  },
  {
   "cell_type": "markdown",
   "metadata": {},
   "source": [
    "### In progress"
   ]
  },
  {
   "cell_type": "code",
   "execution_count": 34,
   "metadata": {
    "collapsed": false,
    "deletable": true,
    "editable": true
   },
   "outputs": [],
   "source": [
    "def lassoRegression(pageViewsDf, wILIdf, train_s, train_e, test_s, test_e, forecastOffset, articles):\n",
    "    \"\"\"\n",
    "    Learn a multiple linear regression model on the articles passed in, from train_s to train_e.\n",
    "    \"\"\"\n",
    "    result = pd.DataFrame()\n",
    "    # doing this shift will assign the previous weeks views the the curr weeks index\n",
    "    shftedPageViews = pageViewsDf.shift(forecastOffset)\n",
    "    \n",
    "    X_train = shftedPageViews.loc[train_s:train_e, articles]\n",
    "    X_test = shftedPageViews.loc[test_s:test_e, articles]\n",
    "    \n",
    "    Y_train = wILIdf.loc[train_s:train_e]\n",
    "    y_true = wILIdf.loc[test_s:test_e]\n",
    "\n",
    "    print('Training from:', train_s, 'to', train_e, 'for a total of', len(X_train), ' weeks')\n",
    "    print('Testing from', test_s, 'to', test_e, 'for a total of', len(X_test), ' weeks')\n",
    "    totalSamples = len(X_train) + len(X_test)\n",
    "    trainPct = int((len(X_train) / totalSamples)*100)\n",
    "    print('Split:', trainPct, '/', 100-trainPct)\n",
    "    # run the regression & evaluate\n",
    "    regr = linear_model.Lasso(alpha=0.1)\n",
    "    regr.fit(X_train, Y_train)\n",
    "    y_pred = regr.predict(X_test)\n",
    "\n",
    "    MSE =  np.mean((y_pred - y_true) ** 2)[0]\n",
    "    r2 = r2_score(y_true, y_pred)\n",
    "        \n",
    "    result.loc['Result', 'MSE'] = MSE\n",
    "    result.loc['Result', 'R2'] = r2\n",
    "        \n",
    "    return result, y_true, y_pred"
   ]
  }
 ],
 "metadata": {
  "anaconda-cloud": {},
  "kernelspec": {
   "display_name": "Python [conda root]",
   "language": "python",
   "name": "conda-root-py"
  },
  "language_info": {
   "codemirror_mode": {
    "name": "ipython",
    "version": 3
   },
   "file_extension": ".py",
   "mimetype": "text/x-python",
   "name": "python",
   "nbconvert_exporter": "python",
   "pygments_lexer": "ipython3",
   "version": "3.5.2"
  }
 },
 "nbformat": 4,
 "nbformat_minor": 1
}
