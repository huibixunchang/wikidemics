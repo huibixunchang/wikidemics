{
 "cells": [
  {
   "cell_type": "markdown",
   "metadata": {
    "deletable": true,
    "editable": true
   },
   "source": [
    "# Gathering Influenza Related Data via the DELPHI Epidata API\n",
    "### Purpose of this notebook\n",
    "* Gather the Wikipedia Pageviews and ILInet data from the DELPHI epidata API\n",
    "* Store the data into pandas DataFrames to facilitate analysis (in other notebooks)\n",
    "* Create a DataFrame that maps Epiweeks to their corresponding Datetimes\n",
    "* Explore the Data\n",
    "\n",
    "*The relevant computed variables are stored in iPython's local data store to avoid recomputation. These variables can be accessed from other notebooks using the %store magic command*"
   ]
  },
  {
   "cell_type": "code",
   "execution_count": 1,
   "metadata": {
    "collapsed": false,
    "deletable": true,
    "editable": true
   },
   "outputs": [],
   "source": [
    "import epidata as delphi\n",
    "import pandas as pd\n",
    "import matplotlib.pyplot as plt\n",
    "import requests\n",
    "import time\n",
    "from bs4 import BeautifulSoup\n",
    "from collections import defaultdict\n",
    "from datetime import datetime, timedelta\n",
    "%matplotlib inline\n",
    "\n",
    "%store -r pageViewResps\n",
    "%store -r wILIresp\n",
    "%store -r pageViews\n",
    "%store -r wILI\n",
    "%store -r epiweeksDf\n",
    "%store -r rawPageViews\n",
    "\n",
    "definedVariables = set(vars().keys())"
   ]
  },
  {
   "cell_type": "markdown",
   "metadata": {
    "deletable": true,
    "editable": true
   },
   "source": [
    "#### Getting Wikipedia Page Views for Flu Related Articles"
   ]
  },
  {
   "cell_type": "code",
   "execution_count": 2,
   "metadata": {
    "collapsed": false,
    "deletable": true,
    "editable": true
   },
   "outputs": [
    {
     "name": "stdout",
     "output_type": "stream",
     "text": [
      "Found pageViewResps\n"
     ]
    },
    {
     "data": {
      "text/plain": [
       "[{'article': 'amantadine',\n",
       "  'count': 2494,\n",
       "  'epiweek': 200750,\n",
       "  'hour': -1,\n",
       "  'total': 962053104,\n",
       "  'value': 2.59237249}]"
      ]
     },
     "execution_count": 2,
     "metadata": {},
     "output_type": "execute_result"
    }
   ],
   "source": [
    "if 'pageViewResps' not in definedVariables:\n",
    "    \n",
    "    print(\"Calling the DELPHI epidata API for wikipedia pageviews\")\n",
    "    \n",
    "    epidata = delphi.Epidata() # interface to CMU delphi API\n",
    "\n",
    "    with open('./data/allarticles.txt') as f:\n",
    "        fluRelatedArticles = [article.strip() for article in f]\n",
    "    # API calls to the delphi epidata API\n",
    "    pageViewResps = epidata.wiki(fluRelatedArticles, epidata.range(200750, 201652))['epidata']\n",
    "    %store pageViewResps\n",
    "else:\n",
    "    print(\"Found pageViewResps\")\n",
    "pageViewResps[:1]"
   ]
  },
  {
   "cell_type": "markdown",
   "metadata": {
    "deletable": true,
    "editable": true
   },
   "source": [
    "#### Getting state level ILInet data"
   ]
  },
  {
   "cell_type": "code",
   "execution_count": 3,
   "metadata": {
    "collapsed": false,
    "deletable": true,
    "editable": true
   },
   "outputs": [
    {
     "name": "stdout",
     "output_type": "stream",
     "text": [
      "Found wILIresp\n"
     ]
    },
    {
     "data": {
      "text/plain": [
       "[{'epiweek': 200701,\n",
       "  'ili': 2.2694244711397,\n",
       "  'issue': 201352,\n",
       "  'lag': 364,\n",
       "  'num_age_0': 2927,\n",
       "  'num_age_1': 2481,\n",
       "  'num_age_2': 2394,\n",
       "  'num_age_3': None,\n",
       "  'num_age_4': None,\n",
       "  'num_age_5': 584,\n",
       "  'num_ili': 8386,\n",
       "  'num_patients': 369521,\n",
       "  'num_providers': 1490,\n",
       "  'region': 'nat',\n",
       "  'release_date': '2013-12-31',\n",
       "  'wili': 2.3781701478568}]"
      ]
     },
     "execution_count": 3,
     "metadata": {},
     "output_type": "execute_result"
    }
   ],
   "source": [
    "if 'wILIresp' not in definedVariables:\n",
    "    \n",
    "    print(\"Calling the DELPHI epidata API for ILInet data\")\n",
    "    rng = epidata.range('200750', '201652')\n",
    "    wILIresp = epidata.fluview('nat', epiweeks=rng)['epidata']\n",
    "    %store wILIresp\n",
    "else:\n",
    "    print(\"Found wILIresp\")\n",
    "\n",
    "wILIresp[:1]"
   ]
  },
  {
   "cell_type": "markdown",
   "metadata": {
    "deletable": true,
    "editable": true
   },
   "source": [
    "#### Putting pageViews API response data in DataFrame"
   ]
  },
  {
   "cell_type": "code",
   "execution_count": 4,
   "metadata": {
    "collapsed": false,
    "deletable": true,
    "editable": true
   },
   "outputs": [
    {
     "name": "stdout",
     "output_type": "stream",
     "text": [
      "Found pageViews\n"
     ]
    },
    {
     "data": {
      "text/html": [
       "<div>\n",
       "<table border=\"1\" class=\"dataframe\">\n",
       "  <thead>\n",
       "    <tr style=\"text-align: right;\">\n",
       "      <th></th>\n",
       "      <th>influenza_prevention</th>\n",
       "      <th>influenzavirus_c</th>\n",
       "      <th>influenza_a_virus_subtype_h1n2</th>\n",
       "      <th>influenza</th>\n",
       "      <th>influenza_vaccine</th>\n",
       "      <th>equine_influenza</th>\n",
       "      <th>avian_influenza</th>\n",
       "      <th>hemagglutinin_(influenza)</th>\n",
       "      <th>influenza_a_virus_subtype_h7n7</th>\n",
       "      <th>cough</th>\n",
       "      <th>...</th>\n",
       "      <th>influenza_pandemic</th>\n",
       "      <th>influenza_a_virus_subtype_h7n2</th>\n",
       "      <th>common_cold</th>\n",
       "      <th>swine_influenza</th>\n",
       "      <th>cat_flu</th>\n",
       "      <th>amantadine</th>\n",
       "      <th>shivering</th>\n",
       "      <th>canine_influenza</th>\n",
       "      <th>rhinorrhea</th>\n",
       "      <th>flu_season</th>\n",
       "    </tr>\n",
       "  </thead>\n",
       "  <tbody>\n",
       "    <tr>\n",
       "      <th>200852</th>\n",
       "      <td>0.0</td>\n",
       "      <td>156.0</td>\n",
       "      <td>14.0</td>\n",
       "      <td>21535.0</td>\n",
       "      <td>1568.0</td>\n",
       "      <td>248.0</td>\n",
       "      <td>2476.0</td>\n",
       "      <td>0.0</td>\n",
       "      <td>16.0</td>\n",
       "      <td>8411.0</td>\n",
       "      <td>...</td>\n",
       "      <td>1053.0</td>\n",
       "      <td>6.0</td>\n",
       "      <td>21232.0</td>\n",
       "      <td>39.0</td>\n",
       "      <td>215.0</td>\n",
       "      <td>3323.0</td>\n",
       "      <td>1293.0</td>\n",
       "      <td>232.0</td>\n",
       "      <td>1789.0</td>\n",
       "      <td>527.0</td>\n",
       "    </tr>\n",
       "    <tr>\n",
       "      <th>200853</th>\n",
       "      <td>0.0</td>\n",
       "      <td>209.0</td>\n",
       "      <td>11.0</td>\n",
       "      <td>21535.0</td>\n",
       "      <td>1810.0</td>\n",
       "      <td>311.0</td>\n",
       "      <td>4651.0</td>\n",
       "      <td>0.0</td>\n",
       "      <td>11.0</td>\n",
       "      <td>7676.0</td>\n",
       "      <td>...</td>\n",
       "      <td>1457.0</td>\n",
       "      <td>13.0</td>\n",
       "      <td>16659.0</td>\n",
       "      <td>24.0</td>\n",
       "      <td>302.0</td>\n",
       "      <td>3885.0</td>\n",
       "      <td>1278.0</td>\n",
       "      <td>232.0</td>\n",
       "      <td>1888.0</td>\n",
       "      <td>519.0</td>\n",
       "    </tr>\n",
       "    <tr>\n",
       "      <th>200901</th>\n",
       "      <td>0.0</td>\n",
       "      <td>206.0</td>\n",
       "      <td>16.0</td>\n",
       "      <td>30309.0</td>\n",
       "      <td>2155.0</td>\n",
       "      <td>320.0</td>\n",
       "      <td>4611.0</td>\n",
       "      <td>28.0</td>\n",
       "      <td>15.0</td>\n",
       "      <td>11497.0</td>\n",
       "      <td>...</td>\n",
       "      <td>1343.0</td>\n",
       "      <td>20.0</td>\n",
       "      <td>27074.0</td>\n",
       "      <td>46.0</td>\n",
       "      <td>310.0</td>\n",
       "      <td>4951.0</td>\n",
       "      <td>1680.0</td>\n",
       "      <td>278.0</td>\n",
       "      <td>2643.0</td>\n",
       "      <td>887.0</td>\n",
       "    </tr>\n",
       "    <tr>\n",
       "      <th>200902</th>\n",
       "      <td>0.0</td>\n",
       "      <td>234.0</td>\n",
       "      <td>6.0</td>\n",
       "      <td>32053.0</td>\n",
       "      <td>2359.0</td>\n",
       "      <td>337.0</td>\n",
       "      <td>4710.0</td>\n",
       "      <td>28.0</td>\n",
       "      <td>10.0</td>\n",
       "      <td>10605.0</td>\n",
       "      <td>...</td>\n",
       "      <td>1624.0</td>\n",
       "      <td>9.0</td>\n",
       "      <td>24967.0</td>\n",
       "      <td>42.0</td>\n",
       "      <td>307.0</td>\n",
       "      <td>4518.0</td>\n",
       "      <td>1767.0</td>\n",
       "      <td>282.0</td>\n",
       "      <td>2838.0</td>\n",
       "      <td>754.0</td>\n",
       "    </tr>\n",
       "  </tbody>\n",
       "</table>\n",
       "<p>4 rows × 54 columns</p>\n",
       "</div>"
      ],
      "text/plain": [
       "        influenza_prevention  influenzavirus_c  \\\n",
       "200852                   0.0             156.0   \n",
       "200853                   0.0             209.0   \n",
       "200901                   0.0             206.0   \n",
       "200902                   0.0             234.0   \n",
       "\n",
       "        influenza_a_virus_subtype_h1n2  influenza  influenza_vaccine  \\\n",
       "200852                            14.0    21535.0             1568.0   \n",
       "200853                            11.0    21535.0             1810.0   \n",
       "200901                            16.0    30309.0             2155.0   \n",
       "200902                             6.0    32053.0             2359.0   \n",
       "\n",
       "        equine_influenza  avian_influenza  hemagglutinin_(influenza)  \\\n",
       "200852             248.0           2476.0                        0.0   \n",
       "200853             311.0           4651.0                        0.0   \n",
       "200901             320.0           4611.0                       28.0   \n",
       "200902             337.0           4710.0                       28.0   \n",
       "\n",
       "        influenza_a_virus_subtype_h7n7    cough     ...      \\\n",
       "200852                            16.0   8411.0     ...       \n",
       "200853                            11.0   7676.0     ...       \n",
       "200901                            15.0  11497.0     ...       \n",
       "200902                            10.0  10605.0     ...       \n",
       "\n",
       "        influenza_pandemic  influenza_a_virus_subtype_h7n2  common_cold  \\\n",
       "200852              1053.0                             6.0      21232.0   \n",
       "200853              1457.0                            13.0      16659.0   \n",
       "200901              1343.0                            20.0      27074.0   \n",
       "200902              1624.0                             9.0      24967.0   \n",
       "\n",
       "        swine_influenza  cat_flu  amantadine  shivering  canine_influenza  \\\n",
       "200852             39.0    215.0      3323.0     1293.0             232.0   \n",
       "200853             24.0    302.0      3885.0     1278.0             232.0   \n",
       "200901             46.0    310.0      4951.0     1680.0             278.0   \n",
       "200902             42.0    307.0      4518.0     1767.0             282.0   \n",
       "\n",
       "        rhinorrhea  flu_season  \n",
       "200852      1789.0       527.0  \n",
       "200853      1888.0       519.0  \n",
       "200901      2643.0       887.0  \n",
       "200902      2838.0       754.0  \n",
       "\n",
       "[4 rows x 54 columns]"
      ]
     },
     "execution_count": 4,
     "metadata": {},
     "output_type": "execute_result"
    }
   ],
   "source": [
    "if 'pageViews' not in definedVariables:\n",
    "    pageToViews = defaultdict(list)\n",
    "    pageViewsIndex = { week['epiweek'] for week in pageViewResps }\n",
    "    pageViewsIndex = list(pageViewsIndex)\n",
    "    pageViewsIndex.sort()\n",
    "\n",
    "    # map each article to it's weekly view counts (from 2008 to 2016)\n",
    "    for week in pageViewResps:\n",
    "        page, weeklyViews = week['article'], week['count']\n",
    "        pageToViews[page].append(weeklyViews)\n",
    "\n",
    "    pageViews = pd.DataFrame.from_dict(pageToViews, orient='index', dtype='int')\n",
    "    pageViews = pageViews.transpose()\n",
    "    pageViews = pageViews.fillna( pageViews.median() )\n",
    "    # convert to ints, for some reasons transpose() coereces to floats\n",
    "    for column in pageViews.columns:\n",
    "        pageViews[column] = pageViews[column].astype('int')\n",
    "    pageViews.index = pageViewsIndex\n",
    "    \n",
    "    # API resp is missing the occasional 53rd epiweek, so fill\n",
    "    w200853 = [ np.median(pageViews.loc[:200852, article].values) for article in pageViews.columns]\n",
    "    w201453 = [ np.median(pageViews.loc[:201452, article].values) for article in pageViews.columns]\n",
    "    pageViews.loc[200853] = w200853\n",
    "    pageViews.loc[201453] = w201453\n",
    "    pageViews = pageViews.sort_index()\n",
    "    %store pageViews\n",
    "else:\n",
    "    print(\"Found pageViews\")\n",
    "    \n",
    "pageViews.loc[200852:200902]"
   ]
  },
  {
   "cell_type": "markdown",
   "metadata": {
    "deletable": true,
    "editable": true
   },
   "source": [
    "#### Putting ILInet API response in DataFrame"
   ]
  },
  {
   "cell_type": "code",
   "execution_count": 5,
   "metadata": {
    "collapsed": false,
    "deletable": true,
    "editable": true
   },
   "outputs": [
    {
     "name": "stdout",
     "output_type": "stream",
     "text": [
      "Found wILI\n"
     ]
    },
    {
     "data": {
      "text/html": [
       "<div>\n",
       "<table border=\"1\" class=\"dataframe\">\n",
       "  <thead>\n",
       "    <tr style=\"text-align: right;\">\n",
       "      <th></th>\n",
       "      <th>Weekly ILI</th>\n",
       "    </tr>\n",
       "  </thead>\n",
       "  <tbody>\n",
       "    <tr>\n",
       "      <th>200850</th>\n",
       "      <td>1.499207</td>\n",
       "    </tr>\n",
       "    <tr>\n",
       "      <th>200851</th>\n",
       "      <td>1.629816</td>\n",
       "    </tr>\n",
       "    <tr>\n",
       "      <th>200852</th>\n",
       "      <td>2.155612</td>\n",
       "    </tr>\n",
       "    <tr>\n",
       "      <th>200853</th>\n",
       "      <td>2.020527</td>\n",
       "    </tr>\n",
       "    <tr>\n",
       "      <th>200901</th>\n",
       "      <td>1.545662</td>\n",
       "    </tr>\n",
       "    <tr>\n",
       "      <th>200902</th>\n",
       "      <td>1.642237</td>\n",
       "    </tr>\n",
       "    <tr>\n",
       "      <th>200903</th>\n",
       "      <td>1.965238</td>\n",
       "    </tr>\n",
       "  </tbody>\n",
       "</table>\n",
       "</div>"
      ],
      "text/plain": [
       "        Weekly ILI\n",
       "200850    1.499207\n",
       "200851    1.629816\n",
       "200852    2.155612\n",
       "200853    2.020527\n",
       "200901    1.545662\n",
       "200902    1.642237\n",
       "200903    1.965238"
      ]
     },
     "execution_count": 5,
     "metadata": {},
     "output_type": "execute_result"
    }
   ],
   "source": [
    "if 'wILI' not in definedVariables:\n",
    "    wILIvalues = [ week['ili'] for week in wILIresp ]\n",
    "    wILIindex = [ week['epiweek'] for week in wILIresp ]\n",
    "    wILIindex.sort()\n",
    "    wILI = pd.DataFrame(wILIvalues, columns=['Weekly ILI'], index=wILIindex)    \n",
    "    %store wILI\n",
    "else:\n",
    "    print(\"Found wILI\")\n",
    "wILI.loc[200850:200903]"
   ]
  },
  {
   "cell_type": "markdown",
   "metadata": {
    "deletable": true,
    "editable": true
   },
   "source": [
    "#### Creating DataFrame that maps Epiweek number to a datetime\n",
    "This will prove useful when doing converting between epiweeks and datetimes. The data is taken from \n",
    "> https://ibis.health.state.nm.us/resource/MMWRWeekCalendar.html\n",
    "\n",
    "Instead of sending a GET request, I have pasted the source html in the data folder."
   ]
  },
  {
   "cell_type": "code",
   "execution_count": 6,
   "metadata": {
    "collapsed": false,
    "deletable": true,
    "editable": true
   },
   "outputs": [
    {
     "name": "stdout",
     "output_type": "stream",
     "text": [
      "Found epiweeksDf\n"
     ]
    },
    {
     "data": {
      "text/html": [
       "<div>\n",
       "<table border=\"1\" class=\"dataframe\">\n",
       "  <thead>\n",
       "    <tr style=\"text-align: right;\">\n",
       "      <th></th>\n",
       "      <th>2006</th>\n",
       "      <th>2007</th>\n",
       "      <th>2008</th>\n",
       "      <th>2009</th>\n",
       "      <th>2010</th>\n",
       "      <th>2011</th>\n",
       "      <th>2012</th>\n",
       "      <th>2013</th>\n",
       "      <th>2014</th>\n",
       "      <th>2015</th>\n",
       "      <th>2016</th>\n",
       "      <th>2017</th>\n",
       "      <th>2018</th>\n",
       "      <th>2019</th>\n",
       "      <th>2020</th>\n",
       "    </tr>\n",
       "  </thead>\n",
       "  <tbody>\n",
       "    <tr>\n",
       "      <th>49</th>\n",
       "      <td>2006-12-03 00:00:00</td>\n",
       "      <td>2007-12-02 00:00:00</td>\n",
       "      <td>2008-11-30 00:00:00</td>\n",
       "      <td>2009-12-06 00:00:00</td>\n",
       "      <td>2010-12-05 00:00:00</td>\n",
       "      <td>2011-12-04 00:00:00</td>\n",
       "      <td>2012-12-02 00:00:00</td>\n",
       "      <td>2013-12-01 00:00:00</td>\n",
       "      <td>2014-11-30 00:00:00</td>\n",
       "      <td>2015-12-06 00:00:00</td>\n",
       "      <td>2016-12-04 00:00:00</td>\n",
       "      <td>2017-12-03 00:00:00</td>\n",
       "      <td>2018-12-02 00:00:00</td>\n",
       "      <td>2019-12-01 00:00:00</td>\n",
       "      <td>2020-11-29 00:00:00</td>\n",
       "    </tr>\n",
       "    <tr>\n",
       "      <th>50</th>\n",
       "      <td>2006-12-10 00:00:00</td>\n",
       "      <td>2007-12-09 00:00:00</td>\n",
       "      <td>2008-12-07 00:00:00</td>\n",
       "      <td>2009-12-13 00:00:00</td>\n",
       "      <td>2010-12-12 00:00:00</td>\n",
       "      <td>2011-12-11 00:00:00</td>\n",
       "      <td>2012-12-09 00:00:00</td>\n",
       "      <td>2013-12-08 00:00:00</td>\n",
       "      <td>2014-12-07 00:00:00</td>\n",
       "      <td>2015-12-13 00:00:00</td>\n",
       "      <td>2016-12-11 00:00:00</td>\n",
       "      <td>2017-12-10 00:00:00</td>\n",
       "      <td>2018-12-09 00:00:00</td>\n",
       "      <td>2019-12-08 00:00:00</td>\n",
       "      <td>2020-12-06 00:00:00</td>\n",
       "    </tr>\n",
       "    <tr>\n",
       "      <th>51</th>\n",
       "      <td>2006-12-17 00:00:00</td>\n",
       "      <td>2007-12-16 00:00:00</td>\n",
       "      <td>2008-12-14 00:00:00</td>\n",
       "      <td>2009-12-20 00:00:00</td>\n",
       "      <td>2010-12-19 00:00:00</td>\n",
       "      <td>2011-12-18 00:00:00</td>\n",
       "      <td>2012-12-16 00:00:00</td>\n",
       "      <td>2013-12-15 00:00:00</td>\n",
       "      <td>2014-12-14 00:00:00</td>\n",
       "      <td>2015-12-20 00:00:00</td>\n",
       "      <td>2016-12-18 00:00:00</td>\n",
       "      <td>2017-12-17 00:00:00</td>\n",
       "      <td>2018-12-16 00:00:00</td>\n",
       "      <td>2019-12-15 00:00:00</td>\n",
       "      <td>2020-12-13 00:00:00</td>\n",
       "    </tr>\n",
       "    <tr>\n",
       "      <th>52</th>\n",
       "      <td>2006-12-24 00:00:00</td>\n",
       "      <td>2007-12-23 00:00:00</td>\n",
       "      <td>2008-12-21 00:00:00</td>\n",
       "      <td>2009-12-27 00:00:00</td>\n",
       "      <td>2010-12-26 00:00:00</td>\n",
       "      <td>2011-12-25 00:00:00</td>\n",
       "      <td>2012-12-23 00:00:00</td>\n",
       "      <td>2013-12-22 00:00:00</td>\n",
       "      <td>2014-12-21 00:00:00</td>\n",
       "      <td>2015-12-27 00:00:00</td>\n",
       "      <td>2016-12-25 00:00:00</td>\n",
       "      <td>2017-12-24 00:00:00</td>\n",
       "      <td>2018-12-23 00:00:00</td>\n",
       "      <td>2019-12-22 00:00:00</td>\n",
       "      <td>2020-12-20 00:00:00</td>\n",
       "    </tr>\n",
       "    <tr>\n",
       "      <th>53</th>\n",
       "      <td>0</td>\n",
       "      <td>0</td>\n",
       "      <td>2008-12-28 00:00:00</td>\n",
       "      <td>0</td>\n",
       "      <td>0</td>\n",
       "      <td>0</td>\n",
       "      <td>0</td>\n",
       "      <td>0</td>\n",
       "      <td>2008-12-28 00:00:00</td>\n",
       "      <td>0</td>\n",
       "      <td>0</td>\n",
       "      <td>0</td>\n",
       "      <td>0</td>\n",
       "      <td>0</td>\n",
       "      <td>0</td>\n",
       "    </tr>\n",
       "  </tbody>\n",
       "</table>\n",
       "</div>"
      ],
      "text/plain": [
       "                   2006                 2007                 2008  \\\n",
       "49  2006-12-03 00:00:00  2007-12-02 00:00:00  2008-11-30 00:00:00   \n",
       "50  2006-12-10 00:00:00  2007-12-09 00:00:00  2008-12-07 00:00:00   \n",
       "51  2006-12-17 00:00:00  2007-12-16 00:00:00  2008-12-14 00:00:00   \n",
       "52  2006-12-24 00:00:00  2007-12-23 00:00:00  2008-12-21 00:00:00   \n",
       "53                    0                    0  2008-12-28 00:00:00   \n",
       "\n",
       "                   2009                 2010                 2011  \\\n",
       "49  2009-12-06 00:00:00  2010-12-05 00:00:00  2011-12-04 00:00:00   \n",
       "50  2009-12-13 00:00:00  2010-12-12 00:00:00  2011-12-11 00:00:00   \n",
       "51  2009-12-20 00:00:00  2010-12-19 00:00:00  2011-12-18 00:00:00   \n",
       "52  2009-12-27 00:00:00  2010-12-26 00:00:00  2011-12-25 00:00:00   \n",
       "53                    0                    0                    0   \n",
       "\n",
       "                   2012                 2013                 2014  \\\n",
       "49  2012-12-02 00:00:00  2013-12-01 00:00:00  2014-11-30 00:00:00   \n",
       "50  2012-12-09 00:00:00  2013-12-08 00:00:00  2014-12-07 00:00:00   \n",
       "51  2012-12-16 00:00:00  2013-12-15 00:00:00  2014-12-14 00:00:00   \n",
       "52  2012-12-23 00:00:00  2013-12-22 00:00:00  2014-12-21 00:00:00   \n",
       "53                    0                    0  2008-12-28 00:00:00   \n",
       "\n",
       "                   2015                 2016                 2017  \\\n",
       "49  2015-12-06 00:00:00  2016-12-04 00:00:00  2017-12-03 00:00:00   \n",
       "50  2015-12-13 00:00:00  2016-12-11 00:00:00  2017-12-10 00:00:00   \n",
       "51  2015-12-20 00:00:00  2016-12-18 00:00:00  2017-12-17 00:00:00   \n",
       "52  2015-12-27 00:00:00  2016-12-25 00:00:00  2017-12-24 00:00:00   \n",
       "53                    0                    0                    0   \n",
       "\n",
       "                   2018                 2019                 2020  \n",
       "49  2018-12-02 00:00:00  2019-12-01 00:00:00  2020-11-29 00:00:00  \n",
       "50  2018-12-09 00:00:00  2019-12-08 00:00:00  2020-12-06 00:00:00  \n",
       "51  2018-12-16 00:00:00  2019-12-15 00:00:00  2020-12-13 00:00:00  \n",
       "52  2018-12-23 00:00:00  2019-12-22 00:00:00  2020-12-20 00:00:00  \n",
       "53                    0                    0                    0  "
      ]
     },
     "execution_count": 6,
     "metadata": {},
     "output_type": "execute_result"
    }
   ],
   "source": [
    "if 'epiweeksDf' not  in definedVariables:\n",
    "    \n",
    "    print(\"Creating epiweeks dataframe\")\n",
    "    \n",
    "    with open(\"data/epiweeks.html\") as f:\n",
    "        html = f.read().replace('\\n', '')\n",
    "        soup = BeautifulSoup( html, 'lxml' )\n",
    "        tables = soup.findAll(\"table\", {'class':'Info'})\n",
    "\n",
    "    epiweeksDf = pd.DataFrame()\n",
    "\n",
    "    for table in tables[::-1]:\n",
    "        rows = iter(table.findAll('tr'))\n",
    "        next(rows) # skip header\n",
    "        years = [int(year) for year in next(rows).text.split()]\n",
    "        df = pd.DataFrame(columns=years)\n",
    "        for i, row in enumerate(rows):\n",
    "            weeks = [ datetime.strptime(d, '%m/%d/%Y') - timedelta(days=6) for d in row.text.split()[1:] ]\n",
    "            if len(weeks) >= 5 :\n",
    "                df.loc[i+1] = weeks\n",
    "        epiweeksDf = pd.concat([epiweeksDf, df], axis=1)\n",
    "    # handle the occasional 53rd week\n",
    "    epiweeksDf.loc[53] = [0] * 15\n",
    "    epiweeksDf.loc[53, 2008] = datetime(2008, 12, 28)\n",
    "    epiweeksDf.loc[53, 2014] = datetime(2008, 12, 28)\n",
    "    \n",
    "    %store epiweeksDf\n",
    "\n",
    "else:\n",
    "    print(\"Found epiweeksDf\")\n",
    "\n",
    "epiweeksDf[-5:]"
   ]
  },
  {
   "cell_type": "markdown",
   "metadata": {
    "deletable": true,
    "editable": true
   },
   "source": [
    "### Aligning and aggregating QUAC pageviews to epiweeks"
   ]
  },
  {
   "cell_type": "code",
   "execution_count": 7,
   "metadata": {
    "collapsed": false,
    "deletable": true,
    "editable": true
   },
   "outputs": [
    {
     "name": "stdout",
     "output_type": "stream",
     "text": [
      "Found rawPageViews\n"
     ]
    },
    {
     "data": {
      "text/html": [
       "<div>\n",
       "<table border=\"1\" class=\"dataframe\">\n",
       "  <thead>\n",
       "    <tr style=\"text-align: right;\">\n",
       "      <th></th>\n",
       "      <th>amantadine</th>\n",
       "      <th>antiviral_drugs</th>\n",
       "      <th>avian_influenza</th>\n",
       "      <th>canine_influenza</th>\n",
       "      <th>cat_flu</th>\n",
       "      <th>chills</th>\n",
       "      <th>common_cold</th>\n",
       "      <th>cough</th>\n",
       "      <th>equine_influenza</th>\n",
       "      <th>fatigue_(medical)</th>\n",
       "      <th>...</th>\n",
       "      <th>rhinorrhea</th>\n",
       "      <th>rimantadine</th>\n",
       "      <th>shivering</th>\n",
       "      <th>sore_throat</th>\n",
       "      <th>swine_influenza</th>\n",
       "      <th>viral_neuraminidase</th>\n",
       "      <th>viral_pneumonia</th>\n",
       "      <th>vomiting</th>\n",
       "      <th>zanamivir</th>\n",
       "      <th>en</th>\n",
       "    </tr>\n",
       "  </thead>\n",
       "  <tbody>\n",
       "    <tr>\n",
       "      <th>200850</th>\n",
       "      <td>4850</td>\n",
       "      <td>206</td>\n",
       "      <td>4657</td>\n",
       "      <td>238</td>\n",
       "      <td>284</td>\n",
       "      <td>586</td>\n",
       "      <td>27012</td>\n",
       "      <td>9695</td>\n",
       "      <td>382</td>\n",
       "      <td>7427</td>\n",
       "      <td>...</td>\n",
       "      <td>2593</td>\n",
       "      <td>410</td>\n",
       "      <td>1592</td>\n",
       "      <td>2087</td>\n",
       "      <td>37</td>\n",
       "      <td>0</td>\n",
       "      <td>1373</td>\n",
       "      <td>11274</td>\n",
       "      <td>699</td>\n",
       "      <td>1229318871</td>\n",
       "    </tr>\n",
       "    <tr>\n",
       "      <th>200851</th>\n",
       "      <td>4233</td>\n",
       "      <td>188</td>\n",
       "      <td>4059</td>\n",
       "      <td>272</td>\n",
       "      <td>233</td>\n",
       "      <td>614</td>\n",
       "      <td>27089</td>\n",
       "      <td>9718</td>\n",
       "      <td>494</td>\n",
       "      <td>7504</td>\n",
       "      <td>...</td>\n",
       "      <td>2565</td>\n",
       "      <td>453</td>\n",
       "      <td>1625</td>\n",
       "      <td>2195</td>\n",
       "      <td>33</td>\n",
       "      <td>0</td>\n",
       "      <td>1271</td>\n",
       "      <td>10932</td>\n",
       "      <td>884</td>\n",
       "      <td>1205690965</td>\n",
       "    </tr>\n",
       "    <tr>\n",
       "      <th>200852</th>\n",
       "      <td>3320</td>\n",
       "      <td>164</td>\n",
       "      <td>2430</td>\n",
       "      <td>225</td>\n",
       "      <td>215</td>\n",
       "      <td>574</td>\n",
       "      <td>20785</td>\n",
       "      <td>8331</td>\n",
       "      <td>243</td>\n",
       "      <td>4232</td>\n",
       "      <td>...</td>\n",
       "      <td>1787</td>\n",
       "      <td>416</td>\n",
       "      <td>1279</td>\n",
       "      <td>5902</td>\n",
       "      <td>39</td>\n",
       "      <td>0</td>\n",
       "      <td>1053</td>\n",
       "      <td>9024</td>\n",
       "      <td>803</td>\n",
       "      <td>1043287624</td>\n",
       "    </tr>\n",
       "    <tr>\n",
       "      <th>200853</th>\n",
       "      <td>7574</td>\n",
       "      <td>202</td>\n",
       "      <td>2717</td>\n",
       "      <td>272</td>\n",
       "      <td>267</td>\n",
       "      <td>674</td>\n",
       "      <td>22749</td>\n",
       "      <td>9411</td>\n",
       "      <td>235</td>\n",
       "      <td>3556</td>\n",
       "      <td>...</td>\n",
       "      <td>2040</td>\n",
       "      <td>417</td>\n",
       "      <td>1305</td>\n",
       "      <td>7662</td>\n",
       "      <td>41</td>\n",
       "      <td>43</td>\n",
       "      <td>1232</td>\n",
       "      <td>12198</td>\n",
       "      <td>636</td>\n",
       "      <td>1126154050</td>\n",
       "    </tr>\n",
       "    <tr>\n",
       "      <th>200901</th>\n",
       "      <td>4939</td>\n",
       "      <td>178</td>\n",
       "      <td>4564</td>\n",
       "      <td>271</td>\n",
       "      <td>309</td>\n",
       "      <td>625</td>\n",
       "      <td>26426</td>\n",
       "      <td>11441</td>\n",
       "      <td>314</td>\n",
       "      <td>4129</td>\n",
       "      <td>...</td>\n",
       "      <td>2637</td>\n",
       "      <td>577</td>\n",
       "      <td>1656</td>\n",
       "      <td>9664</td>\n",
       "      <td>45</td>\n",
       "      <td>235</td>\n",
       "      <td>1547</td>\n",
       "      <td>10920</td>\n",
       "      <td>943</td>\n",
       "      <td>1275054281</td>\n",
       "    </tr>\n",
       "    <tr>\n",
       "      <th>200902</th>\n",
       "      <td>4512</td>\n",
       "      <td>179</td>\n",
       "      <td>4647</td>\n",
       "      <td>274</td>\n",
       "      <td>306</td>\n",
       "      <td>615</td>\n",
       "      <td>24447</td>\n",
       "      <td>10553</td>\n",
       "      <td>332</td>\n",
       "      <td>4411</td>\n",
       "      <td>...</td>\n",
       "      <td>2836</td>\n",
       "      <td>613</td>\n",
       "      <td>1751</td>\n",
       "      <td>7561</td>\n",
       "      <td>42</td>\n",
       "      <td>238</td>\n",
       "      <td>1529</td>\n",
       "      <td>11676</td>\n",
       "      <td>1468</td>\n",
       "      <td>1335297129</td>\n",
       "    </tr>\n",
       "  </tbody>\n",
       "</table>\n",
       "<p>6 rows × 54 columns</p>\n",
       "</div>"
      ],
      "text/plain": [
       "        amantadine  antiviral_drugs  avian_influenza  canine_influenza  \\\n",
       "200850        4850              206             4657               238   \n",
       "200851        4233              188             4059               272   \n",
       "200852        3320              164             2430               225   \n",
       "200853        7574              202             2717               272   \n",
       "200901        4939              178             4564               271   \n",
       "200902        4512              179             4647               274   \n",
       "\n",
       "        cat_flu  chills  common_cold  cough  equine_influenza  \\\n",
       "200850      284     586        27012   9695               382   \n",
       "200851      233     614        27089   9718               494   \n",
       "200852      215     574        20785   8331               243   \n",
       "200853      267     674        22749   9411               235   \n",
       "200901      309     625        26426  11441               314   \n",
       "200902      306     615        24447  10553               332   \n",
       "\n",
       "        fatigue_(medical)     ...      rhinorrhea  rimantadine  shivering  \\\n",
       "200850               7427     ...            2593          410       1592   \n",
       "200851               7504     ...            2565          453       1625   \n",
       "200852               4232     ...            1787          416       1279   \n",
       "200853               3556     ...            2040          417       1305   \n",
       "200901               4129     ...            2637          577       1656   \n",
       "200902               4411     ...            2836          613       1751   \n",
       "\n",
       "        sore_throat  swine_influenza  viral_neuraminidase  viral_pneumonia  \\\n",
       "200850         2087               37                    0             1373   \n",
       "200851         2195               33                    0             1271   \n",
       "200852         5902               39                    0             1053   \n",
       "200853         7662               41                   43             1232   \n",
       "200901         9664               45                  235             1547   \n",
       "200902         7561               42                  238             1529   \n",
       "\n",
       "        vomiting  zanamivir          en  \n",
       "200850     11274        699  1229318871  \n",
       "200851     10932        884  1205690965  \n",
       "200852      9024        803  1043287624  \n",
       "200853     12198        636  1126154050  \n",
       "200901     10920        943  1275054281  \n",
       "200902     11676       1468  1335297129  \n",
       "\n",
       "[6 rows x 54 columns]"
      ]
     },
     "execution_count": 7,
     "metadata": {},
     "output_type": "execute_result"
    }
   ],
   "source": [
    "if 'rawPageViews' not in definedVariables:\n",
    "    rawHourlyPageViews = pd.read_csv('data/LANL/wiki/en_flu_raw.csv')\n",
    "    rawHourlyPageViews = rawHourlyPageViews.set_index('timestamp')\n",
    "    rawHourlyPageViews.index = rawHourlyPageViews.index.to_datetime()\n",
    "\n",
    "    rawPageViews = pd.DataFrame(columns=rawHourlyPageViews.columns)\n",
    "\n",
    "    for year in range(2007, 2015):\n",
    "        for epiweekNum, start in enumerate(epiweeksDf[year]):\n",
    "            if start == 0:\n",
    "                continue\n",
    "            end = start +  timedelta(days=6, hours=23)\n",
    "            mask = ((rawHourlyPageViews.index >= start) & \n",
    "                    (rawHourlyPageViews.index <= end))\n",
    "            # aggregate on epiweeks\n",
    "            thisEpiweekPageViews = rawHourlyPageViews.loc[mask].sum()\n",
    "            epiweekNum = str(epiweekNum) if epiweekNum >= 10 else '0' + str(epiweekNum)\n",
    "            epiweekWithYear = int(str(year) + epiweekNum) + 1\n",
    "            rawPageViews.loc[epiweekWithYear] = thisEpiweekPageViews.values\n",
    "    # coerce to ints\n",
    "    for col in rawPageViews.columns:\n",
    "        rawPageViews[col] = rawPageViews[col].astype('int')\n",
    "    # convert column names to make them the same as the pageViews df\n",
    "    rawPageViews.columns = [ article[3:].lower() if len(article) >= 3 else article\n",
    "                             for article in rawPageViews.columns ]\n",
    "    rawPageViews = rawPageViews.loc[200750:201409]\n",
    "    \n",
    "    %store rawPageViews\n",
    "else:\n",
    "    print(\"Found rawPageViews\")\n",
    "\n",
    "rawPageViews.loc[200850:200902]"
   ]
  },
  {
   "cell_type": "code",
   "execution_count": 8,
   "metadata": {
    "collapsed": false,
    "deletable": true,
    "editable": true
   },
   "outputs": [
    {
     "data": {
      "text/html": [
       "<div>\n",
       "<table border=\"1\" class=\"dataframe\">\n",
       "  <thead>\n",
       "    <tr style=\"text-align: right;\">\n",
       "      <th></th>\n",
       "      <th>influenza</th>\n",
       "      <th>influenza_a_virus</th>\n",
       "      <th>flu_season</th>\n",
       "      <th>influenza_vaccine</th>\n",
       "      <th>common_cold</th>\n",
       "      <th>influenza_a_virus_subtype_h1n2</th>\n",
       "    </tr>\n",
       "  </thead>\n",
       "  <tbody>\n",
       "    <tr>\n",
       "      <th>200750</th>\n",
       "      <td>-48.0</td>\n",
       "      <td>-16.0</td>\n",
       "      <td>-4.0</td>\n",
       "      <td>-5.0</td>\n",
       "      <td>-401.0</td>\n",
       "      <td>0.0</td>\n",
       "    </tr>\n",
       "    <tr>\n",
       "      <th>200751</th>\n",
       "      <td>-55.0</td>\n",
       "      <td>-4.0</td>\n",
       "      <td>-1.0</td>\n",
       "      <td>-31.0</td>\n",
       "      <td>-437.0</td>\n",
       "      <td>0.0</td>\n",
       "    </tr>\n",
       "    <tr>\n",
       "      <th>200752</th>\n",
       "      <td>-31.0</td>\n",
       "      <td>-3.0</td>\n",
       "      <td>-3.0</td>\n",
       "      <td>-2.0</td>\n",
       "      <td>-540.0</td>\n",
       "      <td>0.0</td>\n",
       "    </tr>\n",
       "  </tbody>\n",
       "</table>\n",
       "</div>"
      ],
      "text/plain": [
       "        influenza  influenza_a_virus  flu_season  influenza_vaccine  \\\n",
       "200750      -48.0              -16.0        -4.0               -5.0   \n",
       "200751      -55.0               -4.0        -1.0              -31.0   \n",
       "200752      -31.0               -3.0        -3.0               -2.0   \n",
       "\n",
       "        common_cold  influenza_a_virus_subtype_h1n2  \n",
       "200750       -401.0                             0.0  \n",
       "200751       -437.0                             0.0  \n",
       "200752       -540.0                             0.0  "
      ]
     },
     "execution_count": 8,
     "metadata": {},
     "output_type": "execute_result"
    }
   ],
   "source": [
    "QUACepiweeks, DELPHIepiweeks = set(rawPageViews.index), set(pageViews.index)\n",
    "commonEpiweeks = list( QUACepiweeks.intersection(DELPHIepiweeks) )\n",
    "commonEpiweeks.sort()\n",
    "\n",
    "QUACarticles, DELPHIarticles = set(rawPageViews.columns), set(pageViews.columns)\n",
    "commonArticles = QUACarticles.intersection(DELPHIarticles)\n",
    "\n",
    "diff= rawPageViews.loc[commonEpiweeks, commonArticles] - pageViews.loc[commonEpiweeks, commonArticles]\n",
    "diff[['influenza', 'influenza_a_virus', 'flu_season', 'influenza_vaccine', \n",
    "      'common_cold', 'influenza_a_virus_subtype_h1n2']][:3]"
   ]
  },
  {
   "cell_type": "markdown",
   "metadata": {
    "deletable": true,
    "editable": true
   },
   "source": [
    "### Correlation between Pageviews and wILI"
   ]
  },
  {
   "cell_type": "code",
   "execution_count": 9,
   "metadata": {
    "collapsed": false,
    "deletable": true,
    "editable": true
   },
   "outputs": [
    {
     "data": {
      "text/plain": [
       "[('influenza_a_virus', 0.60410445166627791),\n",
       " ('influenza_prevention', 0.45434976735415522),\n",
       " ('common_cold', 0.45429982280087783),\n",
       " ('flu_season', 0.43658456293047376),\n",
       " ('influenza', 0.42434633316156162),\n",
       " ('influenza_a_virus_subtype_h1n2', 0.42308749424698788),\n",
       " ('viral_pneumonia', 0.40695773174997651),\n",
       " ('fever', 0.39964290368811184),\n",
       " ('influenza_vaccine', 0.39714292906548171),\n",
       " ('oseltamivir', 0.37395625719005771)]"
      ]
     },
     "execution_count": 9,
     "metadata": {},
     "output_type": "execute_result"
    }
   ],
   "source": [
    "def epiweekToDatetime(epiweek):\n",
    "    epiweek = str(epiweek)\n",
    "    return datetime.strptime(epiweek + '6', \"%Y%W%w\") - timedelta(days=6)\n",
    "\n",
    "pearsonCoefs = []\n",
    "for article in pageViews.columns:\n",
    "    df = pd.DataFrame({'wILI': wILI.loc[200750:201409, 'Weekly ILI'].values,\n",
    "                       'Views': pageViews.loc[200750:201409, article].values})\n",
    "    pearsonCoefs.append( (article, df.corr().loc['Views', 'wILI'] ) )\n",
    "pearsonCoefs.sort(key=lambda t: t[1], reverse=True) # sort by pearson coeff\n",
    "topArticles = [article for article, _ in pearsonCoefs[:10]] # top 10\n",
    "pearsonCoefs[:10]"
   ]
  },
  {
   "cell_type": "markdown",
   "metadata": {
    "deletable": true,
    "editable": true
   },
   "source": [
    "### Graph using the DELPHI data\n",
    "Due to mass media coverage, the 2009 flu season introduces a lot of noise into any potential model correlating wikipedia page views to wILI."
   ]
  },
  {
   "cell_type": "code",
   "execution_count": 10,
   "metadata": {
    "collapsed": false,
    "deletable": true,
    "editable": true
   },
   "outputs": [
    {
     "data": {
      "text/plain": [
       "<matplotlib.text.Text at 0x7f6191006d30>"
      ]
     },
     "execution_count": 10,
     "metadata": {},
     "output_type": "execute_result"
    },
    {
     "data": {
      "image/png": "[encoded data removed]",
      "text/plain": [
       "<matplotlib.figure.Figure at 0x7f61910e5898>"
      ]
     },
     "metadata": {},
     "output_type": "display_data"
    }
   ],
   "source": [
    "#plotDf.index = list( map(epiweekToDatetime, plotDf.index) )\n",
    "fig, ax = plt.subplots()\n",
    "ax2 = ax.twinx()\n",
    "plotCols = ['influenza_a_virus', 'influenza', 'common_cold']\n",
    "plotDf = pageViews.loc[201101:201401, plotCols]\n",
    "plotDf.index = list( map(epiweekToDatetime, plotDf.index) )\n",
    "\n",
    "# normalize the page views\n",
    "plotDf = (plotDf - plotDf.mean() ) / (plotDf.max() - plotDf.min() )\n",
    "plotDf.plot(ax=ax, figsize=(15, 10))\n",
    "wiliPlotDf = wILI.loc[201101:201401]\n",
    "wiliPlotDf.index = list( map(epiweekToDatetime, wiliPlotDf.index) )\n",
    "wiliPlotDf.plot(ax=ax2, color='black', linewidth=2)\n",
    "plt.legend(loc='center left', bbox_to_anchor=(1.0, 0.5))\n",
    "plt.title(\"Flu\")"
   ]
  },
  {
   "cell_type": "markdown",
   "metadata": {},
   "source": [
    "### Graping using the LANL Data"
   ]
  },
  {
   "cell_type": "code",
   "execution_count": 11,
   "metadata": {
    "collapsed": false
   },
   "outputs": [],
   "source": [
    "# ground truth data (CDC wILI)\n",
    "truth = pd.read_csv('data/LANL/en_flu_2011-01-01_2014-01-04.csv', header=None)\n",
    "truth.columns = ['Date', 'wILI']\n",
    "truth.set_index('Date', inplace=True)\n",
    "truth.index = pd.to_datetime(truth.index)"
   ]
  },
  {
   "cell_type": "code",
   "execution_count": 12,
   "metadata": {
    "collapsed": false
   },
   "outputs": [],
   "source": [
    "# LANL hourly wikipedia views data\n",
    "rawHourlyPageViews = pd.read_csv('data/LANL/wiki/en_flu_raw.csv')\n",
    "rawHourlyPageViews = rawHourlyPageViews.set_index('timestamp')\n",
    "rawHourlyPageViews.index = rawHourlyPageViews.index.to_datetime()\n",
    "# resample from hourly to daily\n",
    "feats = rawHourlyPageViews.resample('D').sum()\n",
    "# resample from daily to weekly (Starts on sundays to align with the truth data)\n",
    "feats = feats.resample('W-SAT').sum()"
   ]
  },
  {
   "cell_type": "code",
   "execution_count": 13,
   "metadata": {
    "collapsed": false
   },
   "outputs": [
    {
     "data": {
      "text/plain": [
       "<matplotlib.axes._subplots.AxesSubplot at 0x7f61902922b0>"
      ]
     },
     "execution_count": 13,
     "metadata": {},
     "output_type": "execute_result"
    },
    {
     "data": {
      "image/png": "[encoded data removed]",
      "text/plain": [
       "<matplotlib.figure.Figure at 0x7f619106b940>"
      ]
     },
     "metadata": {},
     "output_type": "display_data"
    }
   ],
   "source": [
    "feats = feats.loc['2011-01-01':'2014-01-04']\n",
    "plotCols = ['en-Influenza_A_virus', 'en-Influenza']\n",
    "normedFeats = (feats - feats.mean()) / (feats.max() - feats.min())\n",
    "fig, ax = plt.subplots()\n",
    "ax2 = ax.twinx()\n",
    "normedFeats[plotCols].plot(ax=ax, figsize=(15,10))\n",
    "truth.plot(ax=ax2, color='black', linewidth=2)"
   ]
  }
 ],
 "metadata": {
  "anaconda-cloud": {},
  "kernelspec": {
   "display_name": "Python [conda env:wikidemics]",
   "language": "python",
   "name": "conda-env-wikidemics-py"
  },
  "language_info": {
   "codemirror_mode": {
    "name": "ipython",
    "version": 3
   },
   "file_extension": ".py",
   "mimetype": "text/x-python",
   "name": "python",
   "nbconvert_exporter": "python",
   "pygments_lexer": "ipython3",
   "version": "3.5.2"
  }
 },
 "nbformat": 4,
 "nbformat_minor": 1
}
